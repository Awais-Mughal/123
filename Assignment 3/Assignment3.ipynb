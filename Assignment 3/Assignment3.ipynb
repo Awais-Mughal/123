{
 "cells": [
  {
   "cell_type": "markdown",
   "metadata": {},
   "source": [
    "# 521153S Deep Learning assignment 3: Training DL networks\n",
    "\n"
   ]
  },
  {
   "cell_type": "markdown",
   "metadata": {},
   "source": [
    "This assignment is designed by Huali Xu.\n",
    "\n",
    "## Outline \n",
    "#### In this assignment, you will learn:\n",
    "* Writing custom dataset in Pytorch with training, validation and testing data.\n",
    "* Building a Convolutional Neural Network (CNN) in Pytorch.\n",
    "* Training and testing your CNN in Pytorch.\n",
    "\n",
    "#### Tasks (<span style=\"color:green\">15 points or more</span>)\n",
    "* **Part 1.** Writing a custom dataset based on Fashion-MNIST\n",
    "    * 1.1. Define a Dataset class (<span style=\"color:green\">2 points</span>)\n",
    "    * 1.2. Dataset checking (<span style=\"color:green\">2.5 points</span>)\n",
    "    * 1.3. Iterating through the dataset with batches (<span style=\"color:green\">1 points</span>)<br>\n",
    "* **Part 2.** Build a CNN on your own. (<span style=\"color:green\">3.5 points</span>) <br>\n",
    "* **Part 3.** Train and test your CNN. (<span style=\"color:green\">6 points or more</span>)\n",
    "    * 3.1. Create functions for train and evaluation (<span style=\"color:green\">2.5 points</span>) <br>\n",
    "    * 3.2. Train and test your network (<span style=\"color:green\">1.5 point</span>) <br>\n",
    "    * 3.3. Modification for your training (<span style=\"color:green\">1 point or more</span>) <br>\n",
    "    * Question: give your ideas to accelerate your training process (<span style=\"color:green\">1 points or more</span>)\n",
    "\n",
    "\n",
    "#### Environment\n",
    "Python 3, Numpy, matplotlib, torch, torchvision\n",
    "\n",
    "#### Dataset\n",
    "* [**Fashion-MNIST**](https://github.com/zalandoresearch/fashion-mnist)\n",
    "is a dataset of Zalando's article images—consisting of a training set of 60,000 examples and a test set of 10,000 examples. Each example is a 28x28 grayscale image, associated with a label from 10 classes. Here we choose the examples that with a label from the first 5 classes (including the training set of 30,000 examples and the test set of 5,000 examples). We intend Fashion-MNIST to serve as a direct drop-in replacement for the original MNIST dataset for benchmarking machine learning algorithms. It shares the same image size and structure of training, validation and testing splits. Using the Fashion-MNIST give you more room to wiggle your experiments.\n",
    "\n",
    "#### Hints\n",
    "* To find the place where you have to insert your solution, hit Crtl + F and search for **TODO:** . You are not supposed to modify the codes from other parts.\n",
    "* Be careful with the shapes of the tensors flowing through the CNN model, making all the operations have compatible inputs and outputs. "
   ]
  },
  {
   "cell_type": "markdown",
   "metadata": {},
   "source": [
    "## Part 1. Writing a custom dataset based on Fashion-MNIST (<span style=\"color:green\">5.5 points</span>)"
   ]
  },
  {
   "cell_type": "markdown",
   "metadata": {},
   "source": [
    "### Part 1.1. Define a Dataset class (<span style=\"color:green\">2 points</span>)"
   ]
  },
  {
   "cell_type": "code",
   "execution_count": 1,
   "metadata": {},
   "outputs": [
    {
     "name": "stdout",
     "output_type": "stream",
     "text": [
      "Collecting onedrivedownloader\n",
      "  Using cached onedrivedownloader-1.1.3-py3-none-any.whl (5.1 kB)\n",
      "Requirement already satisfied: requests in c:\\programdata\\anaconda3\\lib\\site-packages (from onedrivedownloader) (2.25.1)\n",
      "Requirement already satisfied: tqdm in c:\\programdata\\anaconda3\\lib\\site-packages (from onedrivedownloader) (4.59.0)\n",
      "Requirement already satisfied: urllib3<1.27,>=1.21.1 in c:\\programdata\\anaconda3\\lib\\site-packages (from requests->onedrivedownloader) (1.26.4)\n",
      "Requirement already satisfied: chardet<5,>=3.0.2 in c:\\programdata\\anaconda3\\lib\\site-packages (from requests->onedrivedownloader) (4.0.0)\n",
      "Requirement already satisfied: certifi>=2017.4.17 in c:\\programdata\\anaconda3\\lib\\site-packages (from requests->onedrivedownloader) (2020.12.5)\n",
      "Requirement already satisfied: idna<3,>=2.5 in c:\\programdata\\anaconda3\\lib\\site-packages (from requests->onedrivedownloader) (2.10)\n",
      "Installing collected packages: onedrivedownloader\n",
      "Successfully installed onedrivedownloader-1.1.3\n"
     ]
    }
   ],
   "source": [
    "!pip install onedrivedownloader"
   ]
  },
  {
   "cell_type": "code",
   "execution_count": 3,
   "metadata": {},
   "outputs": [],
   "source": [
    "from onedrivedownloader import download\n",
    "import os\n",
    "\n",
    "link = 'https://unioulu-my.sharepoint.com/:u:/g/personal/hliu22_univ_yo_oulu_fi/EatDho3877JMlYugij_sKBkBqRz5s8hvmC1DQb0LT-W-lA?e=vkdebU'\n",
    "\n",
    "if not os.path.exists('./data/fashion_mnist_npy'):\n",
    "    print('Downloading dataset')\n",
    "    download(link, filename=\"./fashion_mnist_npy_hw3.zip\", unzip=True, unzip_path='./data/fashion_mnist_npy')"
   ]
  },
  {
   "cell_type": "code",
   "execution_count": 4,
   "metadata": {},
   "outputs": [],
   "source": [
    "# import necessary packages\n",
    "import os \n",
    "import torch \n",
    "import requests, zipfile, sys\n",
    "import numpy as np\n",
    "import matplotlib.pyplot as plt \n",
    "from torch.utils.data import Dataset, DataLoader\n",
    "import torchvision\n",
    "from PIL import Image\n",
    "import torch\n",
    "import torch.nn as nn\n",
    "import torch.nn.functional as F\n",
    "import torch.optim as optim\n",
    "from torchvision import transforms\n",
    "\n",
    "\n",
    "# fashion_MNIST dataset \n",
    "data_dir='./data/fashion_mnist_npy/'\n",
    "train_data = np.load(os.path.join(data_dir, 'train_data.npy'))\n",
    "test_data = np.load(os.path.join(data_dir, 'test_data.npy'))\n",
    "train_label = np.load(os.path.join(data_dir, 'train_labels.npy'))\n",
    "test_label = np.load(os.path.join(data_dir, 'test_labels.npy'))\n",
    "\n",
    "# select 5 classes\n",
    "selected_classes = [0, 1, 2, 3, 4]\n",
    "\n",
    "# choose the data from the selected 5 classes\n",
    "train_mask = np.isin(train_label, selected_classes)\n",
    "train_data = train_data[train_mask]\n",
    "train_label = train_label[train_mask]\n",
    "\n",
    "test_mask = np.isin(test_label, selected_classes)\n",
    "test_data = test_data[test_mask]\n",
    "test_label = test_label[test_mask]\n",
    "\n",
    "# split the training data to a new training data and validation data\n",
    "class_indices = [[] for i in range(5)]\n",
    "for i, v in enumerate(train_label):\n",
    "    class_indices[v].append(i)\n",
    "\n",
    "indices_all = np.random.permutation(len(class_indices[0]))\n",
    "# take the first 1000 indices of indices_all\n",
    "indices = indices_all[:1000]\n",
    "# take the rest of the indices of indices_all\n",
    "indices_rest = indices_all[1000:]\n",
    "\n",
    "valid_indices = []\n",
    "train_indices = []\n",
    "for i in range(5):\n",
    "    # build indices for validation set\n",
    "    valid_indices.extend(np.array(class_indices[i])[indices])\n",
    "    # TODO: build indices for training set (0.25 points)\n",
    "    # your code here \n",
    "\n",
    "# write the custom dataset based on the dataset\n",
    "class FashionMnist(Dataset):\n",
    "    \"\"\"Fashion Mnist dataset\"\"\" \n",
    "\n",
    "    def __init__(self, phase='train', transform=None):\n",
    "\n",
    "        # TODO: now, split the predefined training data (1.5 points)\n",
    "        # Make the examples of training, valid, and test as 25000, 5000 and 5000, and make samples in each category be balance.\n",
    "        if 'train' == phase:\n",
    "            # your code here\n",
    "            \n",
    "\n",
    "        elif 'valid' == phase:\n",
    "            # your code here \n",
    "            \n",
    "\n",
    "        elif 'test' == phase:\n",
    "            # your code here\n",
    "            \n",
    "\n",
    "        else:\n",
    "            assert True, 'wrong phase'\n",
    "            \n",
    "\n",
    "        self.transform = transform \n",
    "        \n",
    "        self.label_names = ['T-shirt/top', 'Trouser', 'Pullover', 'Dress', 'Coat']\n",
    "\n",
    "    def __len__(self):\n",
    "        return len(self.data)\n",
    "\n",
    "    def __getitem__(self, index):\n",
    "        \n",
    "        # TODO: get image and label according to the index (0.25 points)\n",
    "        # your code here \n",
    "        \n",
    "\n",
    "        # doing this so that it is consistent with all other datasets\n",
    "        # to return a PIL Image\n",
    "        img = Image.fromarray(img, mode='L')\n",
    "\n",
    "        if self.transform is not None:\n",
    "            img = self.transform(img)\n",
    "\n",
    "        return img, label\n"
   ]
  },
  {
   "cell_type": "markdown",
   "metadata": {},
   "source": [
    "### Part 1.2. Dataset checking (<span style=\"color:green\">2.5 points</span>)\n",
    "First, randomly show some images in training, validation and testing data and check if the images have correct labels.<br>\n",
    "Secondly, check the number of images for each class, to make sure the dataset created correctly."
   ]
  },
  {
   "cell_type": "code",
   "execution_count": 5,
   "metadata": {
    "scrolled": false
   },
   "outputs": [
    {
     "data": {
      "image/png": "[encoded data removed]",
      "text/plain": [
       "<Figure size 1152x576 with 5 Axes>"
      ]
     },
     "metadata": {
      "needs_background": "light"
     },
     "output_type": "display_data"
    },
    {
     "name": "stdout",
     "output_type": "stream",
     "text": [
      "total number of training set: 25000\n",
      "numer of images for class T-shirt/top: 5000\n",
      "numer of images for class Trouser: 5000\n",
      "numer of images for class Pullover: 5000\n",
      "numer of images for class Dress: 5000\n",
      "numer of images for class Coat: 5000\n"
     ]
    }
   ],
   "source": [
    "# checking training set\n",
    "# randomly show some samples and their labels\n",
    "# TODO: create a FashionMnist dataset for training, set transform to None (0.5 points)\n",
    "# your code here\n",
    "train_set =  #this is the first 0.25 points, see the rest 0.25 points in Part 1.3\n",
    "\n",
    "num_to_show = 5\n",
    "idx = np.random.choice(range(len(train_set)), num_to_show, replace=False) # randomly pick 5 pictures to show\n",
    "\n",
    "fig = plt.figure(figsize=(16, 8))\n",
    "\n",
    "for i in range(len(idx)):\n",
    "    image, label = train_set[idx[i]] \n",
    "    label_name = train_set.label_names[label]\n",
    "\n",
    "    ax = plt.subplot(1, num_to_show, i + 1)\n",
    "    plt.tight_layout()\n",
    "    ax.set_title('class #{}'.format(label_name))\n",
    "    ax.axis('off')\n",
    "    plt.imshow(np.asarray(image))\n",
    "\n",
    "plt.show()\n",
    "\n",
    "# print number of images for each class\n",
    "print('total number of training set: {}'.format(len(train_set)))\n",
    "for i in range(5):\n",
    "    print('numer of images for class {}: {}'.format(train_set.label_names[i], np.sum(train_set.label==i)))"
   ]
  },
  {
   "cell_type": "code",
   "execution_count": 6,
   "metadata": {},
   "outputs": [
    {
     "data": {
      "image/png": "[encoded data removed]",
      "text/plain": [
       "<Figure size 1152x576 with 5 Axes>"
      ]
     },
     "metadata": {
      "needs_background": "light"
     },
     "output_type": "display_data"
    },
    {
     "name": "stdout",
     "output_type": "stream",
     "text": [
      "total number of validation set: 5000\n",
      "numer of images for class T-shirt/top: 1000\n",
      "numer of images for class Trouser: 1000\n",
      "numer of images for class Pullover: 1000\n",
      "numer of images for class Dress: 1000\n",
      "numer of images for class Coat: 1000\n"
     ]
    }
   ],
   "source": [
    "# TODO:checking validation data (1 points)\n",
    "# your code here, like the training set, the output in this section should be like this (you can have your own visualization style)\n",
    "\n",
    "\n"
   ]
  },
  {
   "cell_type": "code",
   "execution_count": 7,
   "metadata": {},
   "outputs": [
    {
     "data": {
      "image/png": "[encoded data removed]",
      "text/plain": [
       "<Figure size 1152x576 with 5 Axes>"
      ]
     },
     "metadata": {
      "needs_background": "light"
     },
     "output_type": "display_data"
    },
    {
     "name": "stdout",
     "output_type": "stream",
     "text": [
      "total number of validation set: 5000\n",
      "numer of images for class T-shirt/top: 1000\n",
      "numer of images for class Trouser: 1000\n",
      "numer of images for class Pullover: 1000\n",
      "numer of images for class Dress: 1000\n",
      "numer of images for class Coat: 1000\n"
     ]
    }
   ],
   "source": [
    "# TODO: checking testing data (1 points)\n",
    "# your code here\n",
    "\n",
    "\n"
   ]
  },
  {
   "cell_type": "markdown",
   "metadata": {},
   "source": [
    "### Part 1.3. Iterating through the dataset with batches (<span style=\"color:green\">1 points</span>)\n",
    "Here, we add more features with the help of [DataLoader](https://pytorch.org/tutorials/beginner/data_loading_tutorial.html#iterating-through-the-dataset):\n",
    "* Batching the data\n",
    "* Shuffling the data\n",
    "* Load the data in parallel using multiprocessing workers.\n",
    "\n",
    "`torch.utils.data.DataLoader` is an iterator which provides all these features. Parameters used below should be clear. One parameter of interest is collate_fn. You can specify how exactly the samples need to be batched using collate_fn. However, default collate should work fine for most use cases.\n",
    "\n",
    "The `DataLoader` takes as input an instance of `FashionMnist` we defined in Part 1.1. Since images in the dataset currently are all in PIL format, we have to convert them to torch.Tensor by using a transform. Actually, `transform` is often used for data augmentation, further illustrations of `transform` can be found in [https://pytorch.org/tutorials/beginner/data_loading_tutorial.html#writing-custom-datasets-dataloaders-and-transforms](https://pytorch.org/tutorials/beginner/data_loading_tutorial.html#writing-custom-datasets-dataloaders-and-transforms)."
   ]
  },
  {
   "cell_type": "code",
   "execution_count": 8,
   "metadata": {},
   "outputs": [],
   "source": [
    "# Set batch_size to 64, shuffling the training set. Number of workers here is set to 0. If your system is Linux, \n",
    "# it is possible to try more workers to do multi-process parallel reading.\n",
    "data_transform = transforms.Compose([transforms.ToTensor()])\n",
    "\n",
    "train_set = FashionMnist(phase='train', transform=data_transform) #the other 0.25 points for create a FashionMnist dataset for training\n",
    "train_loader = DataLoader(train_set, batch_size=64, shuffle=True, num_workers=0)\n",
    "\n",
    "# TODO: create test_loader and valid_loader, both with no shuffling (1 points)\n",
    "# your code here \n",
    "\n"
   ]
  },
  {
   "cell_type": "markdown",
   "metadata": {},
   "source": [
    "## Part 2. Build a CNN on your own (<span style=\"color:green\">3.5 points</span>)\n",
    "Structure of the CNN (**Conv**: convolutional layer, **BN**: Batch Normalization layer, **Max_pool**: max pooling layer, **FC**: fully connected layer, batch_size=64):\n",
    "<!--![model.png](attachment:model.png)-->\n",
    "<img src=http://yty.kapsi.fi/DLcourse/ass3/CNN.png width=\"800\">"
   ]
  },
  {
   "cell_type": "markdown",
   "metadata": {},
   "source": [
    "To define your own Network, following the rule of thumb:\n",
    "1. Define the layers in `__init__`.\n",
    "2. Do the forward calculation in `forward`."
   ]
  },
  {
   "cell_type": "code",
   "execution_count": 9,
   "metadata": {},
   "outputs": [],
   "source": [
    "import torch\n",
    "import torch.nn as nn\n",
    "\n",
    "class Network(nn.Module):\n",
    "    def __init__(self, num_classes):\n",
    "        super().__init__()\n",
    "        self.conv1 = nn.Conv2d(1, 32, kernel_size=3)\n",
    "        self.bn1 = nn.BatchNorm2d(32)\n",
    "        self.relu1 = nn.ReLU()\n",
    "        self.pool = nn.MaxPool2d(kernel_size=2, stride=2)\n",
    "\n",
    "        # TODO: rest of layers (1.5 points)  \n",
    "        # your code here\n",
    "        self.conv2 = \n",
    "        self.bn2 = \n",
    "        # ...\n",
    "\n",
    "    def forward(self, x):\n",
    "        x = self.conv1(x) \n",
    "        x = self.bn1(x)  \n",
    "        x = self.relu1(x)  \n",
    "        x = self.pool(x)\n",
    "\n",
    "        # TODO: fill the rest part, you may need more lines like x = ... (2 points)\n",
    "        # your code here\n",
    "        x = \n",
    "        \n",
    "        x = x.view(-1, 64 * 5 * 5) \n",
    "        \n",
    "        x = \n",
    "\n",
    "        return x\n"
   ]
  },
  {
   "cell_type": "markdown",
   "metadata": {},
   "source": [
    "## Part 3. Train and test your CNN model (<span style=\"color:green\">6 points or more</span>)\n",
    "### Part 3.1. Create functions for train and evaluation (<span style=\"color:green\">2.5 points</span>)\n",
    "* Instantiate a network.\n",
    "* When training, create an optimizer to take care of network's parameters, calculate the loss and accuracy.\n",
    "* When evaluation, only need to claculate the accuracy."
   ]
  },
  {
   "cell_type": "code",
   "execution_count": 11,
   "metadata": {},
   "outputs": [],
   "source": [
    "# instantiate a network\n",
    "net = Network(num_classes=5)\n",
    "\n",
    "# evaluation function\n",
    "def eval(net, data_loader):\n",
    "    use_cuda = torch.cuda.is_available()\n",
    "    if use_cuda:\n",
    "        net = net.cuda()\n",
    "    net.eval()\n",
    "    correct = 0.0\n",
    "    num_images = 0.0\n",
    "    for i_batch, (images, labels) in enumerate(data_loader):\n",
    "        if use_cuda:\n",
    "            images = images.cuda()\n",
    "            labels = labels.cuda()\n",
    "        outs = net(images) \n",
    "#         _, preds = outs.max(1)\n",
    "        preds = outs.argmax(dim=1)\n",
    "        correct += preds.eq(labels).sum()\n",
    "        num_images += len(labels)\n",
    "\n",
    "    acc = correct / num_images\n",
    "    return acc\n",
    "\n",
    "# training function\n",
    "def train(net, train_loader, valid_loader):\n",
    "    loss_function = torch.nn.CrossEntropyLoss()\n",
    "    # TODO: build your SGD optimizer with learning rate=0.01, momentum=0.9, no weight decay (0.5 points)\n",
    "    # your code here\n",
    "    optimizer = \n",
    "\n",
    "    use_cuda = torch.cuda.is_available()\n",
    "    if use_cuda:\n",
    "        net = net.cuda()\n",
    "        \n",
    "    epoches = 10\n",
    "    for epoch in range(epoches):\n",
    "        net.train() \n",
    "        correct = 0.0 # used to accumulate number of correctly recognized images\n",
    "        num_images = 0.0 # used to accumulate number of images\n",
    "        for i_batch, (images, labels) in enumerate(train_loader):\n",
    "            if use_cuda:\n",
    "                images = images.cuda()\n",
    "                labels = labels.cuda()\n",
    "            # TODO: rest of the training code\n",
    "            # your code here, including the forward propagation (0.75 points), \n",
    "            # backward propagation (0.75 points) and calculating the accuracy (0.5 points)\n",
    "            \n",
    "            \n",
    "        acc = correct / num_images\n",
    "        acc_eval = eval(net, valid_loader)\n",
    "        print('epoch: %d, lr: %f, accuracy: %f, loss: %f, valid accuracy: %f' % (epoch, optimizer.param_groups[0]['lr'], acc, loss.item(), acc_eval))\n",
    "\n",
    "    return net"
   ]
  },
  {
   "cell_type": "markdown",
   "metadata": {},
   "source": [
    "### Part 3.2. Train and test your network (<span style=\"color:green\">1.5 points</span>)"
   ]
  },
  {
   "cell_type": "code",
   "execution_count": 12,
   "metadata": {
    "scrolled": true
   },
   "outputs": [
    {
     "name": "stdout",
     "output_type": "stream",
     "text": [
      "Please wait patiently, it may take some seconds...\n",
      "epoch: 0, lr: 0.010000, accuracy: 0.871280, loss: 0.309647, valid accuracy: 0.907600\n",
      "epoch: 1, lr: 0.010000, accuracy: 0.919520, loss: 0.177934, valid accuracy: 0.917000\n",
      "epoch: 2, lr: 0.010000, accuracy: 0.930960, loss: 0.092810, valid accuracy: 0.907200\n",
      "epoch: 3, lr: 0.010000, accuracy: 0.938400, loss: 0.204410, valid accuracy: 0.915200\n",
      "epoch: 4, lr: 0.010000, accuracy: 0.943440, loss: 0.239128, valid accuracy: 0.923200\n",
      "epoch: 5, lr: 0.010000, accuracy: 0.949480, loss: 0.264909, valid accuracy: 0.922400\n",
      "epoch: 6, lr: 0.010000, accuracy: 0.954280, loss: 0.047403, valid accuracy: 0.925800\n",
      "epoch: 7, lr: 0.010000, accuracy: 0.960480, loss: 0.042967, valid accuracy: 0.933600\n",
      "epoch: 8, lr: 0.010000, accuracy: 0.962400, loss: 0.233262, valid accuracy: 0.936200\n",
      "epoch: 9, lr: 0.010000, accuracy: 0.967320, loss: 0.086580, valid accuracy: 0.925800\n",
      "accuracy on testing data: 0.927400\n"
     ]
    }
   ],
   "source": [
    "print('Please wait patiently, it may take some seconds...')\n",
    "# TODO: train your network here (0.75 points)\n",
    "# your code here\n",
    "\n",
    "\n",
    "# TODO: test your network here on\n",
    "\n",
    "\n",
    "print('accuracy on testing data: %f' % acc_test) #  a reference output is provided below:"
   ]
  },
  {
   "cell_type": "markdown",
   "metadata": {},
   "source": [
    "### Part 3.3. Modification for your training (<span style=\"color:green\">1 points or more</span>)\n",
    "Try the following tips to improve your network's performance:\n",
    "* Weight decay? (Please set a weight penalty in optimizer)\n",
    "* More epoches? \n",
    "* Maybe more convolutinal or fc layers?\n",
    "\n",
    "**Note**: Each tip has 0.5 points, more tips used, more points you will get. You could come up with your own tips, and they should be reasonable, persuasive and implemented with your code."
   ]
  },
  {
   "cell_type": "code",
   "execution_count": 21,
   "metadata": {},
   "outputs": [
    {
     "name": "stdout",
     "output_type": "stream",
     "text": [
      "Please wait patiently, it may take some seconds...\n",
      "epoch: 0, lr: 0.010000, accuracy: 0.967400, loss: 0.129620, valid accuracy: 0.937800\n",
      "epoch: 1, lr: 0.010000, accuracy: 0.973000, loss: 0.037497, valid accuracy: 0.940200\n",
      "epoch: 2, lr: 0.010000, accuracy: 0.975760, loss: 0.038284, valid accuracy: 0.926200\n",
      "epoch: 3, lr: 0.010000, accuracy: 0.976960, loss: 0.276127, valid accuracy: 0.937400\n",
      "epoch: 4, lr: 0.010000, accuracy: 0.979880, loss: 0.131853, valid accuracy: 0.934600\n",
      "epoch: 5, lr: 0.010000, accuracy: 0.983480, loss: 0.167119, valid accuracy: 0.928200\n",
      "epoch: 6, lr: 0.010000, accuracy: 0.982920, loss: 0.019532, valid accuracy: 0.940400\n",
      "epoch: 7, lr: 0.010000, accuracy: 0.983560, loss: 0.056122, valid accuracy: 0.933200\n",
      "epoch: 8, lr: 0.010000, accuracy: 0.986880, loss: 0.128746, valid accuracy: 0.937800\n",
      "epoch: 9, lr: 0.010000, accuracy: 0.988720, loss: 0.055304, valid accuracy: 0.931200\n",
      "epoch: 10, lr: 0.010000, accuracy: 0.989920, loss: 0.037473, valid accuracy: 0.932600\n",
      "epoch: 11, lr: 0.010000, accuracy: 0.991520, loss: 0.011404, valid accuracy: 0.917000\n",
      "epoch: 12, lr: 0.010000, accuracy: 0.994000, loss: 0.063768, valid accuracy: 0.936000\n",
      "epoch: 13, lr: 0.010000, accuracy: 0.992040, loss: 0.003829, valid accuracy: 0.930600\n",
      "epoch: 14, lr: 0.010000, accuracy: 0.995360, loss: 0.000677, valid accuracy: 0.937600\n",
      "accuracy on testing data: 0.931800\n"
     ]
    }
   ],
   "source": [
    "#  TODO: Improve your network performance here\n",
    " \n",
    "\n",
    "\n",
    " \n",
    "#  a reference output is provided below:"
   ]
  },
  {
   "cell_type": "markdown",
   "metadata": {},
   "source": [
    "###  Question: give your ideas to accelerate your training process (<span style=\"color:green\">1 points or more</span>)\n",
    "#### Your answer: (the first two is 0.5 points each, the rest is 0.25 points each. More ideas, more points, with the upper limit 2 points in total. Please also describe your idea at least for couple of sentences as the ideas should be reasonable and persuasive.)"
   ]
  },
  {
   "cell_type": "code",
   "execution_count": null,
   "metadata": {},
   "outputs": [],
   "source": []
  }
 ],
 "metadata": {
  "kernelspec": {
   "display_name": "Python 3",
   "language": "python",
   "name": "python3"
  },
  "language_info": {
   "codemirror_mode": {
    "name": "ipython",
    "version": 3
   },
   "file_extension": ".py",
   "mimetype": "text/x-python",
   "name": "python",
   "nbconvert_exporter": "python",
   "pygments_lexer": "ipython3",
   "version": "3.8.8"
  },
  "pycharm": {
   "stem_cell": {
    "cell_type": "raw",
    "metadata": {
     "collapsed": false
    },
    "source": []
   }
  }
 },
 "nbformat": 4,
 "nbformat_minor": 2
}
