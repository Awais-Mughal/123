{
 "cells": [
  {
   "cell_type": "markdown",
   "metadata": {},
   "source": [
    "# Deep Learning 2023 - Assignment 2: Neural Networks\n",
    "Designed by Haotian Liu (haotian.liu@oulu.fi)"
   ]
  },
  {
   "cell_type": "markdown",
   "metadata": {},
   "source": [
    "## Outline \n",
    "#### In this assignment, you will learn:\n",
    "* Neural Network, Deep Neural Network, Loss Function and Optimization.\n",
    "* Building a simple NN using numpy to understand the backpropagation.\n",
    "* Gradient check using finite-difference approximation.\n",
    "* Stochastic Gradient Descent (SGD).\n",
    "* Regularization and simple hype-parameters tuning methods to improve your NN performance."
   ]
  },
  {
   "cell_type": "markdown",
   "metadata": {},
   "source": [
    "#### Grading (<span style=\"color:green\">15 points</span>)\n",
    "\n",
    "* **Part 1. Import Libraries, Loading and Preprocessing the Training and Testing Data.**\n",
    "* **Part 2. Build the Neural Network, Forward and Backward Propagation. (<span style=\"color:green\">9.5 points</span>)**\n",
    "  * 2.1 Check the structure of data samples (<span style=\"color:green\">0.5 points</span>)\n",
    "    * Question (<span style=\"color:green\">0.5 points</span>)\n",
    "  * 2.2 Construct the model and implement the forward propagation (<span style=\"color:green\">5 points</span>)\n",
    "    * Initialize the model parameters (<span style=\"color:green\">1 points</span>)\n",
    "    * Define the activation function (<span style=\"color:green\">3 points</span>)\n",
    "    * Construct the forward propagation function (<span style=\"color:green\">1 points</span>)\n",
    "  * 2.3 Loss function computation and backward propagation (<span style=\"color:green\">4 points</span>)\n",
    "    * Implement the loss function (<span style=\"color:green\">1 points</span>)\n",
    "    * Implement the backward propagation (<span style=\"color:green\">3 points</span>)\n",
    "    * Extended Reading: Gradient check using finite-difference approximation.\n",
    "* **Part 3. Training and Evaluation of Neural Network (<span style=\"color:green\">2.5 points</span>)**\n",
    "  * 3.1 Training your network (<span style=\"color:green\">2 points</span>)\n",
    "  * 3.2 Evaluate the performance of your model (<span style=\"color:green\">0.5 points</span>)\n",
    "\n",
    "* **Part 4. Regularization and Hyperparameter Tuning (<span style=\"color:green\">3 points</span>)**\n",
    "  * 4.1 Implement weight decay loss and backward propagation  (<span style=\"color:green\">2 points</span>)\n",
    "  * 4.2 Hyperparameter Tuning (<span style=\"color:green\">1 points</span>)"
   ]
  },
  {
   "cell_type": "markdown",
   "metadata": {},
   "source": [
    "#### Environment\n",
    "Python 3, Numpy, matplotlib, sklearn\n",
    "\n",
    "#### Dataset\n",
    "* [**Fashion-MNIST**](https://github.com/zalandoresearch/fashion-mnist)\n",
    "is a dataset of Zalando's article images—consisting of a training set of 60,000 examples and a test set of 10,000 examples. Each example is a 28x28 grayscale image, associated with a label from 10 classes. We intend Fashion-MNIST to serve as a direct drop-in replacement for the original MNIST dataset for benchmarking machine learning algorithms. It shares the same image size and structure of training and testing splits. Using the Fashion-MNIST give you more room to wiggle your experiments.\n",
    "\n",
    "#### Hints\n",
    "* To find the place where you have to insert your solution, hit Crtl + F and search for **TODO:** . You are NOT suppose to modify the codes from other parts.\n",
    "* **Be careful with the shape** of the weights, gradient, .. of your tensor in your implementation. Double check and make sure the shapes are fit for computation, especially matrix multiplication.\n",
    "* You could check the correctness of your code by comparing the intermediate outputs with the **<span style=\"color:green\">Reference Results</span>**. **Remember to do this step by step to avoid getting lost.**"
   ]
  },
  {
   "cell_type": "markdown",
   "metadata": {},
   "source": [
    "## Part 1. Import Libraries, Loading and Preprocessing the Training and Testing Data\n",
    "**You don't need to change the code from this part.**"
   ]
  },
  {
   "cell_type": "code",
   "execution_count": 1,
   "metadata": {},
   "outputs": [],
   "source": [
    "# You will mainly use numpy to construct your NN\n",
    "import numpy as np\n",
    "import matplotlib, time, copy, os, requests, zipfile, sys\n",
    "# Matplotlib to plot the image\n",
    "import matplotlib.pyplot as plt\n",
    "# Off-the-shelf evaluation functions provided by sklearn\n",
    "from sklearn.metrics import confusion_matrix, accuracy_score"
   ]
  },
  {
   "cell_type": "markdown",
   "metadata": {},
   "source": [
    "### Functions use to download the dataset from OneDrive\n",
    "Here we use the [onedrivedownloader](https://pypi.org/project/onedrivedownloader/) package for data download."
   ]
  },
  {
   "cell_type": "code",
   "execution_count": 2,
   "metadata": {
    "scrolled": true
   },
   "outputs": [
    {
     "name": "stdout",
     "output_type": "stream",
     "text": [
      "Requirement already satisfied: onedrivedownloader in d:\\programdata\\anaconda3\\envs\\cv\\lib\\site-packages (1.1.3)\n",
      "Requirement already satisfied: requests in d:\\programdata\\anaconda3\\envs\\cv\\lib\\site-packages (from onedrivedownloader) (2.31.0)\n",
      "Requirement already satisfied: tqdm in d:\\programdata\\anaconda3\\envs\\cv\\lib\\site-packages (from onedrivedownloader) (4.65.0)\n",
      "Requirement already satisfied: charset-normalizer<4,>=2 in d:\\programdata\\anaconda3\\envs\\cv\\lib\\site-packages (from requests->onedrivedownloader) (2.0.4)\n",
      "Requirement already satisfied: urllib3<3,>=1.21.1 in d:\\programdata\\anaconda3\\envs\\cv\\lib\\site-packages (from requests->onedrivedownloader) (1.26.15)\n",
      "Requirement already satisfied: idna<4,>=2.5 in d:\\programdata\\anaconda3\\envs\\cv\\lib\\site-packages (from requests->onedrivedownloader) (3.4)\n",
      "Requirement already satisfied: certifi>=2017.4.17 in d:\\programdata\\anaconda3\\envs\\cv\\lib\\site-packages (from requests->onedrivedownloader) (2023.5.7)\n",
      "Requirement already satisfied: colorama in d:\\programdata\\anaconda3\\envs\\cv\\lib\\site-packages (from tqdm->onedrivedownloader) (0.4.6)\n"
     ]
    }
   ],
   "source": [
    "!pip install onedrivedownloader"
   ]
  },
  {
   "cell_type": "code",
   "execution_count": 3,
   "metadata": {},
   "outputs": [
    {
     "name": "stdout",
     "output_type": "stream",
     "text": [
      "Downloading dataset\n"
     ]
    },
    {
     "name": "stderr",
     "output_type": "stream",
     "text": [
      "100%|████████████████████████████████████████████████████████████████████████████| 30.6M/30.6M [00:03<00:00, 8.49MiB/s]\n"
     ]
    },
    {
     "name": "stdout",
     "output_type": "stream",
     "text": [
      "Unzipping file...\n"
     ]
    },
    {
     "name": "stderr",
     "output_type": "stream",
     "text": [
      "Extracting files: 100%|██████████████████████████████████████████████████████████████████| 4/4 [00:00<00:00, 15.40it/s]\n"
     ]
    }
   ],
   "source": [
    "from onedrivedownloader import download\n",
    "\n",
    "link = 'https://unioulu-my.sharepoint.com/:u:/g/personal/hliu22_univ_yo_oulu_fi/EW3HQP_PhE9GpXBS50bADNIBzmmQX2lBpaEp-9mWhpPrsA?e=auRurQ'\n",
    "\n",
    "if not os.path.exists('./data_hw2/fashion_mnist_npy'):\n",
    "    print('Downloading dataset')\n",
    "    download(link, filename=\"./fashion_mnist_npy.zip\", unzip=True, unzip_path='./data_hw2/fashion_mnist_npy')"
   ]
  },
  {
   "cell_type": "markdown",
   "metadata": {},
   "source": [
    "### Functions use to pre-process your training/testing data"
   ]
  },
  {
   "cell_type": "code",
   "execution_count": 4,
   "metadata": {},
   "outputs": [],
   "source": [
    "def reshape_train_data(X):\n",
    "    ''' Input training data has shape (60000, 28, 28)\n",
    "        Input testing data has shape (10000, 28, 28)\n",
    "        where: \n",
    "        60000 is the numbers of input training samples\n",
    "        10000 is the numbers of input testing samples\n",
    "        similar to MNIST, resolution of each sample is 28 x 28\n",
    "    '''\n",
    "    samples, H, W = X.shape\n",
    "    # Reshape input volume to (sample, 784), this mean, your NN input layer will have 784 placeholders\n",
    "    # we scale the RGB values by divide them by 255, this will help improve the training performance\n",
    "    return X.reshape(samples, H * W).T / 255\n",
    "\n",
    "def one_hot_vector(x, num_classes):\n",
    "    # By now, I think you already heard about this so many times\n",
    "    return np.eye(num_classes)[x].T"
   ]
  },
  {
   "cell_type": "markdown",
   "metadata": {},
   "source": [
    "### Finally, we load and preprocess the data"
   ]
  },
  {
   "cell_type": "code",
   "execution_count": 5,
   "metadata": {},
   "outputs": [
    {
     "data": {
      "image/png": "[encoded data removed]",
      "text/plain": [
       "<Figure size 1600x800 with 5 Axes>"
      ]
     },
     "metadata": {},
     "output_type": "display_data"
    },
    {
     "data": {
      "image/png": "[encoded data removed]",
      "text/plain": [
       "<Figure size 1600x800 with 5 Axes>"
      ]
     },
     "metadata": {},
     "output_type": "display_data"
    }
   ],
   "source": [
    "PATH = os.path.join('data_hw2', 'fashion_mnist_npy')\n",
    "\n",
    "# The actual meaning of the label of your classes.\n",
    "# E.g. if an output one-hot vector is [0. 0. 0. 1. 0. 0. 0. 0. 0. 0.], it used to prepresent a Dress\n",
    "label_names = ['T-shirt/top', 'Trouser', 'Pullover', 'Dress', 'Coat', \n",
    "               'Sandal', 'Shirt', 'Sneaker', 'Bag', 'Ankle boot']\n",
    "\n",
    "# Load the training input\n",
    "X_train = np.load(os.path.join(PATH, 'train_data.npy'))\n",
    "# Load the training labels\n",
    "X_test = np.load(os.path.join(PATH, 'test_data.npy'))\n",
    "# Load the testing input\n",
    "Y_train = np.load(os.path.join(PATH, 'train_labels.npy'))\n",
    "# Load the testing labels\n",
    "Y_test = np.load(os.path.join(PATH, 'test_labels.npy'))\n",
    "\n",
    "# Get the number of classes\n",
    "num_classes = len(label_names)\n",
    "# Get the number of training samples and their resolution for reshape\n",
    "num_trains, HEIGHT, WIDTH = X_train.shape\n",
    "\n",
    "# Reshape the training and testing inputs\n",
    "X_train, X_test = reshape_train_data(X_train), reshape_train_data(X_test)\n",
    "\n",
    "# Create one-hot vector for the training and testing labels\n",
    "Y_train, Y_test = one_hot_vector(Y_train, num_classes), one_hot_vector(Y_test, num_classes)\n",
    "\n",
    "# This part use to randomly load some of the training and testing image and the one-hot vectors for checking\n",
    "fig_train, ax_train = plt.subplots(figsize=(16, 8), nrows=1, ncols=5)\n",
    "fig_train.suptitle(\"Random image from the TRAINING set\", y=0.73, fontsize=16, fontweight='bold')\n",
    "\n",
    "fig_test, ax_test = plt.subplots(figsize=(16, 8), nrows=1, ncols=5)\n",
    "fig_test.suptitle(\"Random image from the TESTING set\", y=0.73, fontsize=16, fontweight='bold')\n",
    "\n",
    "for idx in range(5):\n",
    "    i, j = np.random.randint(num_trains), np.random.randint(X_test.shape[0])\n",
    "    \n",
    "    ax_train[idx].imshow(X_train[:,i].reshape(HEIGHT, WIDTH), cmap = matplotlib.cm.binary)\n",
    "    ax_train[idx].set_title(label_names[np.argmax(Y_train[:,i])] + \"\\n\" + str(Y_train[:,i]))\n",
    "    ax_train[idx].axis('off')\n",
    "    \n",
    "    ax_test[idx].imshow(X_test[:,j].reshape(HEIGHT, WIDTH), cmap = matplotlib.cm.binary)\n",
    "    ax_test[idx].set_title(label_names[np.argmax(Y_test[:,j])] + \"\\n\" + str(Y_test[:,j]))\n",
    "    ax_test[idx].axis('off')"
   ]
  },
  {
   "cell_type": "markdown",
   "metadata": {},
   "source": [
    "## Part 2. Build the Neural Network, Forward and Backward Propagation (<span style=\"color:green\">9.5 points</span>)\n",
    "#### The fun part start from here.\n",
    "*Definition:* loss function is a function that maps an event or values of one or more variables onto a real number intuitively representing some \"cost\" associated with the event. Loss function (sometimes called cost function) is used to calculate the gradient by applying the chain rule, so that we can update the weights (and bias) of our neural network using an optimizer such as gradient descent. <br>\n",
    "It could be interpreted as using the loss function to calculate the network’s layers error, in which we calculate the error of the current layer, then pass the weighted error back to the previous layer, and recursively doing this until we travel back to the first hidden layer. At each layer, we update the weights using the derivative of the cost for each weight.\n",
    "\n",
    "Let illustrate this concept using a simple toy example.\n",
    "\n"
   ]
  },
  {
   "cell_type": "markdown",
   "metadata": {},
   "source": [
    "![Figure1.png](http://yty.kapsi.fi/DLcourse/ass1/Figure1.png)"
   ]
  },
  {
   "cell_type": "markdown",
   "metadata": {},
   "source": [
    "<center> <strong> <font size=\"3\" color=\"blue\"> Figure 1. Toy example of backpropagation </font> </strong> </center>\n",
    "\n",
    "In **Fig. 1** we have a loss function $L$:\n",
    "\\begin{align}\n",
    "L = c \\times d\n",
    "\\end{align}\n",
    "\n",
    "where <br>\n",
    "\n",
    "\\begin{align}\n",
    "c = a + b -5\n",
    "\\end{align}\n",
    "\n",
    "and, <br>\n",
    "\n",
    "\\begin{align}\n",
    "d = b^2 + b -1\n",
    "\\end{align}\n",
    "\n",
    "As illustrated in **Fig. 1**, the equations in the edge show the partial derivation of some functions with respect to their direct variables. For example, $\\frac{\\partial L}{\\partial c}$ is the partial derivative of $L$ with respect to $c$. <br>\n",
    "However, we are actually interested in calculating the derivative of $L$ with respect to $a$ and $b$, which don't directly connected with each other. So, how can we do this? As mentioned earlier, we can do this using the chain-rule so that we can calculate $\\frac{\\partial L}{\\partial a}$ and $\\frac{\\partial L}{\\partial b}$ as:\n",
    "\n",
    "\\begin{align}\n",
    "\\frac{\\partial L}{\\partial a} = \\frac{\\partial L}{\\partial c} \\cdot \\frac{\\partial c}{\\partial a}\n",
    "\\end{align}\n",
    "\n",
    "and, <br>\n",
    "\n",
    "\\begin{align}\n",
    "\\frac{\\partial L}{\\partial b} = \\frac{\\partial L}{\\partial c} \\cdot \\frac{\\partial c}{\\partial b} + \\frac{\\partial L}{\\partial d} \\cdot \\frac{\\partial d}{\\partial b}\n",
    "\\end{align}\n",
    "\n",
    "More importantly, **we can see that $a$ affect $L$ through $c$, and so on**. This concept hold no matter how many hidden layers you have or how complicated your loss will be as long as you use backpropagation to calculate the derivative to update your weights."
   ]
  },
  {
   "cell_type": "markdown",
   "metadata": {},
   "source": [
    "**Now, let's get your hand dirty.**"
   ]
  },
  {
   "cell_type": "markdown",
   "metadata": {},
   "source": [
    "### 2.1 Check the structure of data samples (<span style=\"color:green\">0.5 points</span>)"
   ]
  },
  {
   "cell_type": "markdown",
   "metadata": {},
   "source": [
    "Before we start, one important thing is to check the structure of data samples. We can run the following code to print the shape of traing and testing data."
   ]
  },
  {
   "cell_type": "code",
   "execution_count": 6,
   "metadata": {},
   "outputs": [
    {
     "name": "stdout",
     "output_type": "stream",
     "text": [
      "Shape of X_train: (784, 60000)\n",
      "Shape of Y_train: (10, 60000)\n",
      "Shape of X_test: (784, 10000)\n",
      "Shape of Y_test: (10, 10000)\n"
     ]
    }
   ],
   "source": [
    "print('Shape of X_train:', X_train.shape)\n",
    "print('Shape of Y_train:', Y_train.shape)\n",
    "print('Shape of X_test:', X_test.shape)\n",
    "print('Shape of Y_test:', Y_test.shape)"
   ]
  },
  {
   "cell_type": "markdown",
   "metadata": {},
   "source": [
    "### Question: For the training data, X_train has a shape of (784, 60000), while Y_train has a shape of (10, 60000). What do the numbers refer to? What is 784, what is 10 and what is 60000? (<span style=\"color:green\">0.5 points</span>)"
   ]
  },
  {
   "cell_type": "markdown",
   "metadata": {},
   "source": [
    "**Answer (TODO):**"
   ]
  },
  {
   "cell_type": "markdown",
   "metadata": {},
   "source": []
  },
  {
   "cell_type": "markdown",
   "metadata": {},
   "source": [
    "### 2.2 Construct the model and implement the forward propagation (<span style=\"color:green\">5 points</span>)\n",
    "\n",
    "Let's take a look at the model in **Fig. 2** below. This is the model we are gonna use in this assignment.\n",
    "\n"
   ]
  },
  {
   "cell_type": "markdown",
   "metadata": {},
   "source": [
    "![Figure2.png](http://yty.kapsi.fi/DLcourse/ass1/Figure2.png)"
   ]
  },
  {
   "cell_type": "markdown",
   "metadata": {},
   "source": [
    "<center> <strong> <font size=\"4\" color=\"blue\"> Figure 2. Structure of our neural network </font> </strong> </center>"
   ]
  },
  {
   "cell_type": "markdown",
   "metadata": {},
   "source": [
    "### Initialize the model parameters (<span style=\"color:green\">1 points</span>)"
   ]
  },
  {
   "cell_type": "markdown",
   "metadata": {},
   "source": [
    "As shown in the **Fig. 2**, our neural network contains two hidden layers (we use **9** and **3** neurons as the  first hidden layer and the second hidden layer default setting respectively) and an output layer. To further simplify things, we will not include biases in our model. Be aware that, while the number of neurons in the hidden layer can be arbitrary, there must be 10 neurons in the output layer because we want our model to classify images from 10 classes. Based on the **Fig. 2**, you have to construct your network. "
   ]
  },
  {
   "cell_type": "markdown",
   "metadata": {},
   "source": [
    "Note that to make the computation implementation more friendly, we will define the network parameters with shape **(out_dim, in_dim)**."
   ]
  },
  {
   "cell_type": "code",
   "execution_count": 7,
   "metadata": {},
   "outputs": [],
   "source": [
    "# Numbers of input units\n",
    "num_inputs = X_train.shape[0]\n",
    "\n",
    "# Number of neural in your hidden layer\n",
    "num_hidden_1 = 9\n",
    "num_hidden_2 = 3\n",
    "\n",
    "# Numbers of output units\n",
    "num_outputs = num_classes"
   ]
  },
  {
   "cell_type": "code",
   "execution_count": 8,
   "metadata": {},
   "outputs": [],
   "source": [
    "def init_parameters(num_inputs, num_hidden_1, num_hidden_2, num_outputs):\n",
    "    \"\"\"Method for initialize the model parameters and the learning velocity of momentum for SGD.\n",
    "\n",
    "    Returns:\n",
    "        parameters (tuple): The model parameters: W1, W2, W3\n",
    "        velocity (tuple): The learning velocity of momentum: V_dW1, V_dW2, V_dW3\n",
    "    \"\"\"\n",
    "\n",
    "    # Construct your neural network in Fig. 2 \n",
    "    # TODO: Random initialize the hidden_1, hidden_2 and output layer weights (w/o bias) (1 point)\n",
    "    # Hints: use np.random.randn()\n",
    "    W1 = \n",
    "    W2 = \n",
    "    W3 = \n",
    "\n",
    "    parameters = W1, W2, W3\n",
    "\n",
    "    # Zeros initialize the momentum for SGD\n",
    "    V_dW1 = np.zeros(W1.shape)\n",
    "    V_dW2 = np.zeros(W2.shape)\n",
    "    V_dW3 = np.zeros(W3.shape)\n",
    "\n",
    "    velocity = V_dW1, V_dW2, V_dW3\n",
    "\n",
    "    return parameters, velocity"
   ]
  },
  {
   "cell_type": "code",
   "execution_count": 9,
   "metadata": {},
   "outputs": [
    {
     "name": "stdout",
     "output_type": "stream",
     "text": [
      "Shape of W1: (9, 784)\n",
      "Shape of W2: (3, 9)\n",
      "Shape of W3: (10, 3)\n"
     ]
    }
   ],
   "source": [
    "parameters, velocity = init_parameters(num_inputs, num_hidden_1, num_hidden_2, num_outputs)\n",
    "\n",
    "W1, W2, W3 = parameters\n",
    "\n",
    "print('Shape of W1:', W1.shape)\n",
    "print('Shape of W2:', W2.shape)\n",
    "print('Shape of W3:', W3.shape)"
   ]
  },
  {
   "cell_type": "markdown",
   "metadata": {},
   "source": [
    "**<span style=\"color:green\">Reference Results:</span>** <br>\n",
    "Shape of W1: (9, 784)<br>\n",
    "Shape of W2: (3, 9)<br>\n",
    "Shape of W3: (10, 3)<br>"
   ]
  },
  {
   "cell_type": "markdown",
   "metadata": {},
   "source": [
    "### Define the activation function (<span style=\"color:green\">3 points</span>)"
   ]
  },
  {
   "cell_type": "markdown",
   "metadata": {},
   "source": [
    "The sigmoid activation is defined as:\n",
    "\n",
    "$$\n",
    "{\\rm sigmoid}(x) = \\frac{1}{1 + e^{-x}}\n",
    "\\tag{1}\n",
    "$$\n",
    "\n",
    "The ReLU (Rectified Linear Unit) is defined as:\n",
    "\n",
    "$$\n",
    "{\\rm ReLU}(x) = \\text{max}(x, 0) =\n",
    "\\begin{cases}\n",
    "x, & \\text{if}\\ x > 0 \\\\\n",
    "0, & \\text{otherwise}\n",
    "\\end{cases}\n",
    "\\tag{2}\n",
    "$$\n",
    "\n",
    "\n",
    "The softmax activation is defined as:\n",
    "\n",
    "$$\n",
    "{\\rm softmax}(x)_i = \\frac{e^{x_i}}{\\sum_{j=1}^{N}e^{x_j}}\\ \\text{for}\\ i\\ \\text{in}\\ \\left\\{1,...,N \\right\\}\n",
    "\\tag{3}\n",
    "$$\n",
    "\n",
    "where $N$ is the number of classes."
   ]
  },
  {
   "cell_type": "code",
   "execution_count": 10,
   "metadata": {},
   "outputs": [],
   "source": [
    "def sigmoid(X):\n",
    "    # TODO: implement Eq. 1 (1 point)\n",
    "    # Hints: use np.exp()\n",
    "    return \n",
    "\n",
    "def relu(X):\n",
    "    # TODO: implement Eq. 2 (1 point)\n",
    "    # Hints: use np.maximum()\n",
    "    return \n",
    "\n",
    "def softmax(X):\n",
    "    # TODO: implement Eq. 3 (1 point)\n",
    "    # Hints: use np.exp() and np.sum(, axis=0) <- beware of the axis\n",
    "    return "
   ]
  },
  {
   "cell_type": "code",
   "execution_count": 11,
   "metadata": {},
   "outputs": [
    {
     "name": "stdout",
     "output_type": "stream",
     "text": [
      "X\n",
      "[[-1]\n",
      " [ 0]\n",
      " [ 2]] \n",
      "\n",
      "sigmoid(x)\n",
      "[[0.26894142]\n",
      " [0.5       ]\n",
      " [0.88079708]] \n",
      "\n",
      "relu(x)\n",
      "[[0]\n",
      " [0]\n",
      " [2]] \n",
      "\n",
      "softmax(x)\n",
      "[[0.04201007]\n",
      " [0.1141952 ]\n",
      " [0.84379473]]\n"
     ]
    }
   ],
   "source": [
    "X = np.array([-1, 0, 2]).reshape(-1, 1)\n",
    "\n",
    "print('X')\n",
    "print(X, '\\n')\n",
    "\n",
    "print('sigmoid(x)')\n",
    "print(sigmoid(X), '\\n')\n",
    "\n",
    "print('relu(x)')\n",
    "print(relu(X), '\\n')\n",
    "\n",
    "print('softmax(x)')\n",
    "print(softmax(X))"
   ]
  },
  {
   "cell_type": "markdown",
   "metadata": {},
   "source": [
    "**<span style=\"color:green\">Reference Results:</span>** <br>\n",
    "sigmoid(x)<br>\n",
    "[[0.26894142]<br>\n",
    " [0.5       ]<br>\n",
    " [0.88079708]]<br>\n",
    "\n",
    "relu(x)<br>\n",
    "[[0]<br>\n",
    " [0]<br>\n",
    " [2]]<br> \n",
    "\n",
    "softmax(x)<br>\n",
    "[[0.04201007]<br>\n",
    " [0.1141952 ]<br>\n",
    " [0.84379473]]<br>"
   ]
  },
  {
   "cell_type": "markdown",
   "metadata": {},
   "source": [
    "To get a better understanding of the activation functions sigmoid and ReLU, we can also visualize them as follows:"
   ]
  },
  {
   "cell_type": "code",
   "execution_count": 12,
   "metadata": {},
   "outputs": [
    {
     "data": {
      "text/plain": [
       "[<matplotlib.lines.Line2D at 0x22606fcd820>]"
      ]
     },
     "execution_count": 12,
     "metadata": {},
     "output_type": "execute_result"
    },
    {
     "data": {
      "image/png": "[encoded data removed]",
      "text/plain": [
       "<Figure size 700x300 with 2 Axes>"
      ]
     },
     "metadata": {},
     "output_type": "display_data"
    }
   ],
   "source": [
    "fig, ax = plt.subplots(1, 2, figsize=(7, 3))\n",
    "\n",
    "x = np.linspace(-5, 5, 100).reshape(-1, 1)\n",
    "\n",
    "ax[0].set_title('Sigmoid')\n",
    "ax[0].plot(x, sigmoid(x))\n",
    "\n",
    "ax[1].set_title('ReLU')\n",
    "ax[1].plot(x, relu(x))"
   ]
  },
  {
   "cell_type": "markdown",
   "metadata": {},
   "source": [
    "### Construct the forward propagation function (<span style=\"color:green\">1 points</span>)"
   ]
  },
  {
   "cell_type": "markdown",
   "metadata": {},
   "source": [
    "According to the model in **Fig. 2**, our **forward-propagation** consists of three parts:\n",
    "\n",
    "First, we to start with the calculation of the output volume $A_1$ for the first hidden layer:\n",
    "\n",
    "$$\n",
    "\\begin{align}\n",
    "Z_1 &= W_1 X \\tag{4} \\\\\n",
    "A_1 &= {\\rm sigmoid}(Z_1) \\tag{5}\n",
    "\\end{align}\n",
    "$$\n",
    "\n",
    "where $W_1$ is the weights of the first hidden layer, $X$ is the input, and here we use the **sigmoid** activation.\n",
    "\n",
    "\n",
    "Then, we calculate the hidden volume of the second hidden layer $A_2$ by:\n",
    "\n",
    "$$\n",
    "\\begin{align}\n",
    "Z_2 &= W_2 A_1 \\tag{6} \\\\\n",
    "A_2 &= {\\rm ReLU}(Z_2) \\tag{7}\n",
    "\\end{align}\n",
    "$$\n",
    "\n",
    "where $W_2$ is the weights of the second hidden layer, and here we use the **ReLU** activation.\n",
    "\n",
    "Finally, we calculate the output volume of the output layer $A_3$ by:\n",
    "\n",
    "$$\n",
    "\\begin{align}\n",
    "Z_3 &= W_3 A_2 \\tag{8} \\\\\n",
    "A_3 &= {\\rm softmax}(Z_3) \\tag{9}\n",
    "\\end{align}\n",
    "$$\n",
    "\n",
    "where $W_3$ is the weights of the output layer, and here we use the softmax activation.\n",
    "\n",
    "In this way, we get the final classification predction outputs $A_3$ from the last hidden layer."
   ]
  },
  {
   "cell_type": "code",
   "execution_count": 13,
   "metadata": {},
   "outputs": [],
   "source": [
    "def forward_propagation(X, parameters):\n",
    "    \"\"\"Method for forward propagation.\n",
    "    Args:\n",
    "        X (np.array): Input data\n",
    "        parameters (tuple): Parameters in the model: W1, W2, W3\n",
    "\n",
    "    Returns:\n",
    "        outputs (tuple): The forward propagation outputs: Z1, A1, Z2, A2, Z3, A3\n",
    "    \"\"\"\n",
    "\n",
    "    W1, W2, W3 = parameters\n",
    "    \n",
    "    # TODO: implement the forward propagation of Fig. 2 based on Eq. 4 - 9 (1 point)\n",
    "    # Hints: use np.matmul() to implement matrix multiplication\n",
    "    Z1 = \n",
    "    A1 = \n",
    "    Z2 = \n",
    "    A2 = \n",
    "    Z3 = \n",
    "    A3 = \n",
    "\n",
    "    outputs = Z1, A1, Z2, A2, Z3, A3\n",
    "    return outputs"
   ]
  },
  {
   "cell_type": "code",
   "execution_count": 14,
   "metadata": {},
   "outputs": [
    {
     "name": "stdout",
     "output_type": "stream",
     "text": [
      "Shape of X: (784, 2)\n",
      "Shape of Z1: (9, 2)\n",
      "Shape of A1: (9, 2)\n",
      "Shape of Z2: (3, 2)\n",
      "Shape of A2: (3, 2)\n",
      "Shape of Z3: (10, 2)\n",
      "Shape of A3: (10, 2)\n",
      "\n",
      "Example results of A3:\n",
      "[[2.46725014e-03 9.30825544e-07]\n",
      " [3.31005452e-04 6.34655955e-07]\n",
      " [5.99451371e-01 9.95638430e-01]\n",
      " [9.09817956e-03 4.04817220e-03]\n",
      " [1.65653873e-01 4.63410273e-05]\n",
      " [3.01971551e-03 8.33547818e-07]\n",
      " [1.36952654e-01 3.46917061e-05]\n",
      " [6.84035576e-04 1.15346167e-05]\n",
      " [8.23364875e-02 2.18431338e-04]\n",
      " [5.42874551e-06 6.05182642e-11]]\n"
     ]
    }
   ],
   "source": [
    "np.random.seed(1)\n",
    "X = np.random.randn(num_inputs, 2)\n",
    "\n",
    "parameters, _ = init_parameters(num_inputs, num_hidden_1, num_hidden_2, num_outputs)\n",
    "Z1, A1, Z2, A2, Z3, A3 = forward_propagation(X, parameters)\n",
    "\n",
    "print('Shape of X:', X.shape)\n",
    "print('Shape of Z1:', Z1.shape)\n",
    "print('Shape of A1:', A1.shape)\n",
    "print('Shape of Z2:', Z2.shape)\n",
    "print('Shape of A2:', A2.shape)\n",
    "print('Shape of Z3:', Z3.shape)\n",
    "print('Shape of A3:', A3.shape)\n",
    "\n",
    "print('\\nExample results of A3:')\n",
    "print(A3)"
   ]
  },
  {
   "cell_type": "markdown",
   "metadata": {},
   "source": [
    "**<span style=\"color:green\">Reference Results:</span>** <br>\n",
    "Shape of X: (784, 2)<br>\n",
    "Shape of Z1: (9, 2)<br>\n",
    "Shape of A1: (9, 2)<br>\n",
    "Shape of Z2: (3, 2)<br>\n",
    "Shape of A2: (3, 2)<br>\n",
    "Shape of Z3: (10, 2)<br>\n",
    "Shape of A3: (10, 2)<br>\n",
    "\n",
    "Example results of A3:<br>\n",
    "[[2.46725014e-03 9.30825544e-07]<br>\n",
    " [3.31005452e-04 6.34655955e-07]<br>\n",
    " [5.99451371e-01 9.95638430e-01]<br>\n",
    " [9.09817956e-03 4.04817220e-03]<br>\n",
    " [1.65653873e-01 4.63410273e-05]<br>\n",
    " [3.01971551e-03 8.33547818e-07]<br>\n",
    " [1.36952654e-01 3.46917061e-05]<br>\n",
    " [6.84035576e-04 1.15346167e-05]<br>\n",
    " [8.23364875e-02 2.18431338e-04]<br>\n",
    " [5.42874551e-06 6.05182642e-11]]<br>"
   ]
  },
  {
   "cell_type": "markdown",
   "metadata": {},
   "source": [
    "### 2.3 Loss function computation and backward propagation (<span style=\"color:green\">4 points</span>)"
   ]
  },
  {
   "cell_type": "markdown",
   "metadata": {},
   "source": [
    "### Implement the loss function (<span style=\"color:green\">1 points</span>)"
   ]
  },
  {
   "cell_type": "markdown",
   "metadata": {},
   "source": [
    "Here we calculate the cross entropy loss function by:\n",
    "\n",
    "$$\n",
    "L = {\\rm cross\\_entropy}(Y, A_3) = - \\frac{1}{M} \\sum_{k=0}^{M} \\sum_{i=0}^{N} Y_i^{k} log({A_3}_i^{k}) \\tag{10}\n",
    "$$\n",
    "\n",
    "where $Y$ is the ground truth labels, $A_3$ is the prediction outputs, $N$ is the number of classes, $M$ is the number of samples in the training batch."
   ]
  },
  {
   "cell_type": "code",
   "execution_count": 15,
   "metadata": {},
   "outputs": [],
   "source": [
    "def cross_entropy_loss(Y, Y_pred):\n",
    "    # TODO: implement Eq. 10 (1 point)\n",
    "    # Hints: use np.sum(), np.multiply() and np.log()\n",
    "    # At the end, we need to divide by the number of of sample in the training batch e.g. m = Y.shape[1]\n",
    "    return "
   ]
  },
  {
   "cell_type": "code",
   "execution_count": 16,
   "metadata": {},
   "outputs": [
    {
     "name": "stdout",
     "output_type": "stream",
     "text": [
      "Shape of Y: (10, 2)\n",
      "Shape of A3: (10, 2)\n",
      "Loss: 1.4200061694735258\n"
     ]
    }
   ],
   "source": [
    "np.random.seed(1)\n",
    "Y = one_hot_vector(np.random.randint(1, num_classes, 2), num_classes)\n",
    "A3 = softmax(np.random.randn(num_classes, 2))\n",
    "\n",
    "L = cross_entropy_loss(Y, A3)\n",
    "print('Shape of Y:', Y.shape)\n",
    "print('Shape of A3:', A3.shape)\n",
    "print('Loss:', L)"
   ]
  },
  {
   "cell_type": "markdown",
   "metadata": {},
   "source": [
    "**<span style=\"color:green\">Reference Results:</span>** <br>\n",
    "Shape of Y: (10, 2)<br>\n",
    "Shape of A3: (10, 2)<br>\n",
    "Loss: 1.4200061694735258<br>"
   ]
  },
  {
   "cell_type": "markdown",
   "metadata": {},
   "source": [
    "### Implement the backward propagation (<span style=\"color:green\">3 points</span>)"
   ]
  },
  {
   "cell_type": "markdown",
   "metadata": {},
   "source": [
    "Using what you learnt in undergraduate school, let's calculate the **backward-propagation** for our model in **Fig. 2**. <br>"
   ]
  },
  {
   "cell_type": "markdown",
   "metadata": {},
   "source": [
    "As mentioned earlier, we are interested in $\\frac{\\partial L}{\\partial W_1}$, $\\frac{\\partial L}{\\partial W_2}$ and $\\frac{\\partial L}{\\partial W_3}$, where: \n",
    "\n",
    "$$\n",
    "\\frac{\\partial L}{\\partial W_3} = \\frac{\\partial L}{\\partial A_3} \\cdot \\frac{\\partial A_3}{\\partial Z_3} \\cdot \\frac{\\partial Z_3}{\\partial W_3} \\tag{11}\n",
    "$$\n",
    "\n",
    ",\n",
    "\n",
    "$$\n",
    "\\frac{\\partial L}{\\partial W_2} = \\frac{\\partial L}{\\partial A_3} \\cdot \\frac{\\partial A_3}{\\partial Z_3} \\cdot \\frac{\\partial Z_3}{\\partial A_2} \\cdot \\frac{\\partial A_2}{\\partial Z_2} \\cdot \\frac{\\partial Z_2}{\\partial W_2} \\tag{12}\n",
    "$$\n",
    "\n",
    "and, \n",
    "\n",
    "$$\n",
    "\\frac{\\partial L}{\\partial W_1} = \\frac{\\partial L}{\\partial A_3} \\cdot \\frac{\\partial A_3}{\\partial Z_3} \\cdot \\frac{\\partial Z_3}{\\partial A_2} \\cdot \\frac{\\partial A_2}{\\partial Z_2} \\cdot \\frac{\\partial Z_2} {\\partial A_1} \\cdot \\frac{\\partial A_1}{\\partial Z_1} \\cdot \\frac{\\partial Z_1}{\\partial W_1} \\tag{13}\n",
    "$$"
   ]
  },
  {
   "cell_type": "markdown",
   "metadata": {},
   "source": [
    "From **Eq. 11** we have:\n",
    "\n",
    "The derivative of $L$ with respect to $Z_3$:\n",
    "\n",
    "$$\n",
    "dZ_3 = \\frac{\\partial L}{\\partial Z_3} = \\frac{\\partial L}{\\partial A_3} \\cdot \\frac{\\partial A_3}{\\partial Z_3} = A_3 - Y \\tag{14}\n",
    "$$\n",
    "\n",
    "<br>\n",
    "\n",
    "The derivative of $L$ with respect to $W_3$:\n",
    "\n",
    "$$\n",
    "d W_3 = \\frac{\\partial L}{\\partial W_3} = \\frac{\\partial L}{\\partial Z_3} \\cdot \\frac{\\partial Z_3}{\\partial W_3} = \\frac{1}{m} d Z_3 \\cdot A_2^T \\tag{15}\n",
    "$$\n",
    "\n",
    "Here $m$ is the number of data samples in a mini batch.\n",
    "\n",
    "<br>\n"
   ]
  },
  {
   "cell_type": "markdown",
   "metadata": {},
   "source": [
    "From **Eq. 12** we have:\n",
    "\n",
    "The derivative of $L$ with respect to $A_2$:\n",
    "$$\n",
    "d A_2 = \\frac{\\partial L}{\\partial A_2} = \\frac{\\partial L}{\\partial Z_3} \\cdot \\frac{\\partial Z_3}{\\partial A_2} = W_3^T \\cdot (A_3 - Y) \\tag{16}\n",
    "$$\n",
    "\n",
    "The derivative of $L$ with respect to $Z_2$: \n",
    "$$\n",
    "\\frac{\\partial A_2}{\\partial Z_2} = {\\rm int}(A2 > 0) \\tag{17}\n",
    "$$\n",
    "\n",
    "$$\n",
    "d Z_2 = \\frac{\\partial L}{\\partial Z_2} = \\frac{\\partial L}{\\partial A_2} \\cdot \\frac{\\partial A_2}{\\partial Z_2} = d A_2 * {\\rm int}(A2 > 0) \\tag{18}\n",
    "$$\n",
    "\n",
    "The derivative of $L$ with respect to $W_2$: \n",
    "$$\n",
    "d W_2 = \\frac{\\partial L}{\\partial W_2} = \\frac{\\partial L}{\\partial Z_2} \\cdot \\frac{\\partial Z_2}{\\partial W_2} = \\frac{1}{m} d Z_2 \\cdot A_1^T \\tag{19}\n",
    "$$\n",
    "\n",
    "<br>\n"
   ]
  },
  {
   "cell_type": "markdown",
   "metadata": {},
   "source": [
    "From **Eq. 13** we have:\n",
    "\n",
    "The derivative of $L$ with respect to $A_1$:\n",
    "$$\n",
    "d A_1 = \\frac{\\partial L}{\\partial A_1} = \\frac{\\partial L}{\\partial Z_2} \\cdot \\frac{\\partial Z_2}{\\partial A_1} = W_2^T \\cdot d Z_2\\tag{20}\n",
    "$$\n",
    "\n",
    "The derivative of $L$ with respect to $Z_1$: \n",
    "$$\n",
    "\\frac{\\partial A_1}{\\partial Z_1} = A1 * (1 - A1) \\tag{21}\n",
    "$$\n",
    "\n",
    "$$\n",
    "d Z_1 = \\frac{\\partial L}{\\partial Z_1} = \\frac{\\partial L}{\\partial A_1} \\cdot \\frac{\\partial A_1}{\\partial Z_1} = d A_1 * A1 * (1 - A1) \\tag{22}\n",
    "$$\n",
    "\n",
    "The derivative of $L$ with respect to $W_1$: \n",
    "$$\n",
    "d W_1 = \\frac{\\partial L}{\\partial W_1} = \\frac{\\partial L}{\\partial Z_1} \\cdot \\frac{\\partial Z_1}{\\partial W_1} = \\frac{1}{m} d Z_1 \\cdot X^T \\tag{23}\n",
    "$$\n",
    "\n",
    "<br>\n"
   ]
  },
  {
   "cell_type": "markdown",
   "metadata": {},
   "source": [
    "**Hints**\n",
    "\n",
    "For the above equations:\n",
    "- $A \\cdot B$ denotes the matrix multiplication between matrix $A$ and $B$, it can be implementated by using `np.matmul(A, B)`. \n",
    "- $A * B$ denotes the [Hadamard product](https://en.wikipedia.org/wiki/Hadamard_product_(matrices)) (element-wise product) between $A$ and $B$, which can be implemented by using `np.multiply(A, B)` or `A * B`.\n",
    "- $A^T$ denotes the [Transpose](https://en.wikipedia.org/wiki/Transpose) of matrix $A$, which can be implemented by using `A.T`\n",
    "- ${\\rm int}(A)$ denotes an operation that converts a matrix of type boolean to type integer, which can be implemented by using `A.astype(int)`.\n",
    "- $m$ is the number of data samples in a mini batch."
   ]
  },
  {
   "cell_type": "code",
   "execution_count": 17,
   "metadata": {},
   "outputs": [],
   "source": [
    "def backward_propagation(X, Y, parameters, outputs):\n",
    "    \"\"\"Method for forward propagation.\n",
    "    Args:\n",
    "        X (np.array): Input data\n",
    "        Y (np.array): Ground truth of input data\n",
    "        parameters (tuple): Parameters in the model: W1, W2, W3\n",
    "        outputs (tuple): The forward propagation outputs: Z1, A1, Z2, A2, Z3, A3\n",
    "        \n",
    "    Returns:\n",
    "        tuple: The computed gradients: dW1, dW2, dW3     \n",
    "    \"\"\"\n",
    "\n",
    "    m = X.shape[1] # The number of data samples in a mini batch\n",
    "\n",
    "    W1, W2, W3 = parameters\n",
    "    Z1, A1, Z2, A2, Z3, A3 = outputs\n",
    "    \n",
    "    # TODO: calculate the derivative of L with respect to Z3 and W3 using Eq. 14 - 15 (1 point)\n",
    "    dZ3 = \n",
    "    dW3 = \n",
    "\n",
    "    # TODO: calculate the derivative of L with respect to A2, Z2 and W2 using Eq. 16 - 19 (1 point)\n",
    "    dA2 = \n",
    "    dZ2 = \n",
    "    dW2 = \n",
    "\n",
    "    # TODO: calculate the derivative of L with respect to A1, Z1 and W1 using Eq. 20 - 23 (1 point)\n",
    "    dA1 = \n",
    "    dZ1 = \n",
    "    dW1 = \n",
    "\n",
    "    return dW1, dW2, dW3"
   ]
  },
  {
   "cell_type": "code",
   "execution_count": 18,
   "metadata": {},
   "outputs": [
    {
     "name": "stdout",
     "output_type": "stream",
     "text": [
      "Shape of dW3: (10, 3)\n",
      "Shape of dW2: (3, 9)\n",
      "Shape of dW1: (9, 784)\n",
      "\n",
      "Example results in dW3:\n",
      "[-11.07686748 -11.18325156 -11.07948311 -11.15090766  -9.30689316\n",
      " -11.18940487 -11.18383374 -11.18882248 -10.89794772 -11.14887099]\n",
      "\n",
      "Example results in dW2:\n",
      "[ 9.68479859 -5.5846308   4.69322188]\n",
      "\n",
      "Example results in dW1:\n",
      "[ 1.41874064e-02 -6.39869875e-01  2.22768707e-09 -8.80866594e-07\n",
      "  2.06468965e-07  6.32945305e-06 -4.88517422e-10  7.55225226e-11\n",
      "  4.40379402e-03]\n"
     ]
    }
   ],
   "source": [
    "np.random.seed(1)\n",
    "X = np.random.randn(num_inputs, 2)\n",
    "Y = np.random.randint(1, num_classes, (2, ))\n",
    "\n",
    "parameters, _ = init_parameters(num_inputs, num_hidden_1, num_hidden_2, num_outputs)\n",
    "outputs = forward_propagation(X, parameters)\n",
    "dW1, dW2, dW3 = backward_propagation(X, Y, parameters, outputs)\n",
    "\n",
    "print('Shape of dW3:', dW3.shape)\n",
    "print('Shape of dW2:', dW2.shape)\n",
    "print('Shape of dW1:', dW1.shape)\n",
    "\n",
    "print('\\nExample results in dW3:')\n",
    "print(dW3[:, 0])\n",
    "\n",
    "print('\\nExample results in dW2:')\n",
    "print(dW2[:, 0])\n",
    "\n",
    "print('\\nExample results in dW1:')\n",
    "print(dW1[:, 0])"
   ]
  },
  {
   "cell_type": "markdown",
   "metadata": {},
   "source": [
    "**<span style=\"color:green\">Reference Results:</span>** <br>\n",
    "Shape of dW3: (10, 3)<br>\n",
    "Shape of dW2: (3, 9)<br>\n",
    "Shape of dW1: (9, 784)<br>\n",
    "\n",
    "Example results in dW3:<br>\n",
    "[-11.07686748 -11.18325156 -11.07948311 -11.15090766  -9.30689316<br>\n",
    " -11.18940487 -11.18383374 -11.18882248 -10.89794772 -11.14887099]<br>\n",
    "\n",
    "Example results in dW2:<br>\n",
    "[ 9.68479859 -5.5846308   4.69322188]<br>\n",
    "\n",
    "Example results in dW1:<br>\n",
    "[ 1.41874064e-02 -6.39869875e-01  2.22768707e-09 -8.80866594e-07<br>\n",
    "  2.06468965e-07  6.32945305e-06 -4.88517422e-10  7.55225226e-11<br>\n",
    "  4.40379402e-03]<br>"
   ]
  },
  {
   "cell_type": "markdown",
   "metadata": {},
   "source": [
    "### Extended Reading: Gradient check using finite-difference approximation.\n",
    "\n",
    "When training deep neural network, there are many things that can go wrong. Until this point, you probably notice that we have been going on and on about the gradient. Why? Because the gradient is very important. Hence, you must make sure that the calculation of your gradient is correct. A correct gradient calculation won't promise your model will converge, but if the calculation was wrong your model will perform very weird. This type of error is hard to debug, so we better prevent it beforehand. <br> \n",
    "To perform the gradient check, we can calculate gradient using the [finite-difference approximation](https://en.wikipedia.org/wiki/Finite_difference) (FDA), and let's call the output of FDA numerical gradients. Then we compare the numerical gradients with the gradient we calculate from taking the derivative. If the differences between them are small enough, we can assume that the gradient was calculated correctly. <br>\n",
    "\n",
    "You probably learned about FDA in your undergraduate, but to refresh your mind, let's have a simple example to see how FDA works. Assume that we have a function $f(x)$ which <br>\n",
    "\n",
    "\\begin{align}\n",
    "f(x) = \\frac{1}{3} x^3 - \\frac{1}{2} x^2 + 1 \\tag{24}\n",
    "\\end{align}\n",
    "\n",
    "Then, the derivative $\\Delta f$ will be: <br>\n",
    "\\begin{align}\n",
    "\\Delta f = x^2 - x \\tag{25}\n",
    "\\end{align}\n",
    "\n",
    "At $x=2.125$, using **Eq. 25** we have $\\Delta f = 2.390625$\n",
    "\n",
    "If we calculate the numerical gradient using FDA we have:\n",
    "\\begin{align}\n",
    "\\Delta_{num\\_grad} f = \\frac{f(x + \\epsilon) - f(x - \\epsilon)}{2 * \\epsilon}  \\tag{26}\n",
    "\\end{align}\n",
    "\n",
    "where $\\epsilon$ is a very small value (E.g. $\\epsilon = 1e-{04}$)\n",
    "\n",
    "At the same point $x=2.125$, using **Eq. 20** we have $\\Delta_{num\\_grad} f = 2.3906250033389753$ <br>\n",
    "\n",
    "We can see that, the calculated values of $\\Delta f$ and $\\Delta_{num\\_grad} f$ are very close to each other. <br>\n",
    "\n",
    "With the same idea, we can check the gradient calculation of our network using FDA. A simple way to do this is: <br>\n",
    "1) We wiggle (by a very small $\\epsilon$ values) the value of our weight for all of the parameters in our model. By all parameters, I mean all of the weights of $W_1$, $W_2$ and $W_3$. E.g. if we use 7 neurons in the first hidden layer and 3 neurons in the second hidden layer, the number of parameters in our network is : <br> \n",
    "$num\\_params(net) = num\\_params(W_1) + num\\_params(W_2) + num\\_params(W_3) = 28*28*7 + 7*7*3 + 3*10 = 5665$ <br>\n",
    "so we have to repeat the \"wiggling\" and calculate the numerical gradient 5665 times. At the end, we have a $num\\_grad$ vector that have shape (5665,) <br>\n",
    "2) Calculate the gradient by taking the derivative. Similarly, we will have a $grad$ vector that also have shape (5665,) <br>\n",
    "3) Compare $num\\_grad$ and $grad$ vectors by: <br>\n",
    "\\begin{align}\n",
    "grad\\_diff = \\frac{||grad - num\\_grad||_2}{|grad + num\\_grad|_2}  \\tag{27}\n",
    "\\end{align}\n",
    "\n",
    "If **grad_diff** is smaller than $1e-{08}$ than we assume that our gradient calculation is correct."
   ]
  },
  {
   "cell_type": "markdown",
   "metadata": {},
   "source": [
    "## Part 3. Training and Evaluation of Neural Network (<span style=\"color:green\">2.5 points</span>)"
   ]
  },
  {
   "cell_type": "markdown",
   "metadata": {},
   "source": [
    "### 3.1 Training your network (<span style=\"color:green\">2 points</span>)\n",
    "\n",
    "In this assignment, we will train our model using mini-batch stochastic gradient descent with momentum. To know more about this optimization algorithm, please check out this great [video](https://www.youtube.com/watch?v=k8fTYJPd3_I) from Dr. Andrew Ng. <br>\n",
    "\n",
    "$$\n",
    "v_{dW} = \\beta v_{dW} + (1 - \\beta) dW \\tag{28}\n",
    "$$\n",
    "\n",
    "$$\n",
    "W = W - \\alpha v_{dW} \\tag{29}\n",
    "$$\n",
    "\n",
    "Here $\\alpha$ is the learning rate, and $\\beta$ is used to update the learning velocity."
   ]
  },
  {
   "cell_type": "code",
   "execution_count": 19,
   "metadata": {},
   "outputs": [],
   "source": [
    "def training_step(X, Y, parameters, velocity, learning_rate, beta, weight_decay_lambda=0.):\n",
    "    \"\"\"Method for each training step.\n",
    "    Args:\n",
    "        X (np.array): Input data\n",
    "        Y (np.array): Ground truth of input data\n",
    "        parameters (tuple): Parameters in the model: W1, W2, W3\n",
    "        velocity (tuple): The learning velocity of momentum: V_dW1, V_dW2, V_dW3\n",
    "        learning_rate (float): The learning rate for training\n",
    "        beta (float): The coefficient to update the learning velocity\n",
    "        weight_decay_lambda (float): The coefficient of weight decay\n",
    "\n",
    "    Returns:\n",
    "        tuple: loss, the updated parameters, the updated velocity\n",
    "    \"\"\"\n",
    "\n",
    "    W1, W2, W3 = parameters\n",
    "\n",
    "    # The forward propagation\n",
    "    outputs = forward_propagation(X, parameters)\n",
    "    A3 = outputs[-1]\n",
    "    \n",
    "    # Loss computation and backward propagation\n",
    "    if weight_decay_lambda == 0.:\n",
    "        loss = cross_entropy_loss(Y, A3)\n",
    "        dW1, dW2, dW3 = backward_propagation(X, Y, parameters, outputs)\n",
    "    else:\n",
    "        loss = cross_entropy_loss(Y, A3) + weight_decay_loss(parameters, weight_decay_lambda)\n",
    "        dW1, dW2, dW3 = backward_propagation_with_weight_decay(X, Y, parameters, outputs, weight_decay_lambda)\n",
    "    \n",
    "    V_dW1, V_dW2, V_dW3 = velocity\n",
    "    \n",
    "    # Updating model parameters\n",
    "    # TODO: Update the learning velocity using Eq. 28 (1 point)\n",
    "    V_dW1 = \n",
    "    V_dW2 = \n",
    "    V_dW3 = \n",
    "\n",
    "    # TODO: Update the model weights using Eq. 29 (1 point)    \n",
    "    W1 = \n",
    "    W2 = \n",
    "    W3 = \n",
    "\n",
    "    parameters = W1, W2, W3\n",
    "    velocity = V_dW1, V_dW2, V_dW3\n",
    "    \n",
    "    return loss, parameters, velocity"
   ]
  },
  {
   "cell_type": "code",
   "execution_count": 20,
   "metadata": {
    "scrolled": true
   },
   "outputs": [],
   "source": [
    "def training_model(parameters, velocity, batch_size, epoch, learning_rate, beta, weight_decay_lambda=0.):\n",
    "    \n",
    "    # Calculate the number of training iterations base on the number of training samples and your batch size\n",
    "    num_batchs = num_trains // batch_size\n",
    "    print('Start training the model:')\n",
    "    print('Number of training samples: {}'.format(num_trains))\n",
    "    print('Number of batchs: {}'.format(num_batchs))\n",
    "\n",
    "    loss_log = [] # Log the training loss\n",
    "    \n",
    "    # Training\n",
    "    for i in range(epoch):    \n",
    "        start_t = time.time()\n",
    "\n",
    "        indices = np.random.permutation(num_trains)\n",
    "        X_train_shuffled, Y_train_shuffled = X_train[:, indices], Y_train[:, indices]\n",
    "\n",
    "        for j in range(num_batchs):\n",
    "\n",
    "            # Get mini-batch samples for training\n",
    "            start_idx, end_idx = j * batch_size, min(j * batch_size + batch_size, X_train.shape[1] - 1)\n",
    "            X, Y = X_train_shuffled[:, start_idx : end_idx], Y_train_shuffled[:, start_idx : end_idx]\n",
    "\n",
    "            # Call training_step()\n",
    "            loss, parameters, velocity = training_step(X, Y, parameters, velocity, learning_rate, beta, weight_decay_lambda)\n",
    "\n",
    "            loss_log.append(loss)\n",
    "            if (j > 0 and j % 200 == 0):\n",
    "                print(\"[Epoch][Iterations]:[{}/{}][{}/{}], loss: {}\".format(i, epoch, j, num_batchs, loss))\n",
    "\n",
    "        print(\"=> Epoch {}, elapsed time: {:.2f} seconds\".format(i, time.time() - start_t))\n",
    "    \n",
    "    plt.title('Training loss:')\n",
    "    plt.plot(loss_log)\n",
    "    plt.show()\n",
    "    \n",
    "    return parameters"
   ]
  },
  {
   "cell_type": "code",
   "execution_count": 21,
   "metadata": {
    "scrolled": false
   },
   "outputs": [
    {
     "name": "stdout",
     "output_type": "stream",
     "text": [
      "Start training the model:\n",
      "Number of training samples: 60000\n",
      "Number of batchs: 468\n",
      "[Epoch][Iterations]:[0/30][200/468], loss: 2.1231936897741566\n",
      "[Epoch][Iterations]:[0/30][400/468], loss: 2.113513943065836\n",
      "=> Epoch 0, elapsed time: 0.19 seconds\n",
      "[Epoch][Iterations]:[1/30][200/468], loss: 2.053363192843281\n",
      "[Epoch][Iterations]:[1/30][400/468], loss: 2.0412284367345155\n",
      "=> Epoch 1, elapsed time: 0.20 seconds\n",
      "[Epoch][Iterations]:[2/30][200/468], loss: 1.9512044208037385\n",
      "[Epoch][Iterations]:[2/30][400/468], loss: 1.7525998955313495\n",
      "=> Epoch 2, elapsed time: 0.20 seconds\n",
      "[Epoch][Iterations]:[3/30][200/468], loss: 1.4956463173419787\n",
      "[Epoch][Iterations]:[3/30][400/468], loss: 1.369971109089457\n",
      "=> Epoch 3, elapsed time: 0.20 seconds\n",
      "[Epoch][Iterations]:[4/30][200/468], loss: 1.2670844006898379\n",
      "[Epoch][Iterations]:[4/30][400/468], loss: 1.1917176934003582\n",
      "=> Epoch 4, elapsed time: 0.21 seconds\n",
      "[Epoch][Iterations]:[5/30][200/468], loss: 1.0948886866806111\n",
      "[Epoch][Iterations]:[5/30][400/468], loss: 1.1456500645890764\n",
      "=> Epoch 5, elapsed time: 0.20 seconds\n",
      "[Epoch][Iterations]:[6/30][200/468], loss: 1.113799392828505\n",
      "[Epoch][Iterations]:[6/30][400/468], loss: 1.233650480812159\n",
      "=> Epoch 6, elapsed time: 0.20 seconds\n",
      "[Epoch][Iterations]:[7/30][200/468], loss: 1.0657144981374504\n",
      "[Epoch][Iterations]:[7/30][400/468], loss: 0.9082831364117534\n",
      "=> Epoch 7, elapsed time: 0.20 seconds\n",
      "[Epoch][Iterations]:[8/30][200/468], loss: 0.9392298919044098\n",
      "[Epoch][Iterations]:[8/30][400/468], loss: 1.0505025116035371\n",
      "=> Epoch 8, elapsed time: 0.19 seconds\n",
      "[Epoch][Iterations]:[9/30][200/468], loss: 1.0529312924720617\n",
      "[Epoch][Iterations]:[9/30][400/468], loss: 0.8439432344670825\n",
      "=> Epoch 9, elapsed time: 0.20 seconds\n",
      "[Epoch][Iterations]:[10/30][200/468], loss: 1.106036451233332\n",
      "[Epoch][Iterations]:[10/30][400/468], loss: 0.9989308858429118\n",
      "=> Epoch 10, elapsed time: 0.21 seconds\n",
      "[Epoch][Iterations]:[11/30][200/468], loss: 0.9749412374470203\n",
      "[Epoch][Iterations]:[11/30][400/468], loss: 1.0511379634577493\n",
      "=> Epoch 11, elapsed time: 0.20 seconds\n",
      "[Epoch][Iterations]:[12/30][200/468], loss: 1.006762504850855\n",
      "[Epoch][Iterations]:[12/30][400/468], loss: 1.211552677659757\n",
      "=> Epoch 12, elapsed time: 0.20 seconds\n",
      "[Epoch][Iterations]:[13/30][200/468], loss: 1.0193130042593381\n",
      "[Epoch][Iterations]:[13/30][400/468], loss: 0.8093952596966001\n",
      "=> Epoch 13, elapsed time: 0.20 seconds\n",
      "[Epoch][Iterations]:[14/30][200/468], loss: 0.9400800451432161\n",
      "[Epoch][Iterations]:[14/30][400/468], loss: 0.8408874905673158\n",
      "=> Epoch 14, elapsed time: 0.20 seconds\n",
      "[Epoch][Iterations]:[15/30][200/468], loss: 0.8117742095237903\n",
      "[Epoch][Iterations]:[15/30][400/468], loss: 0.9659227205164526\n",
      "=> Epoch 15, elapsed time: 0.21 seconds\n",
      "[Epoch][Iterations]:[16/30][200/468], loss: 0.7991619230481403\n",
      "[Epoch][Iterations]:[16/30][400/468], loss: 0.8361616907190175\n",
      "=> Epoch 16, elapsed time: 0.19 seconds\n",
      "[Epoch][Iterations]:[17/30][200/468], loss: 0.8561824622113202\n",
      "[Epoch][Iterations]:[17/30][400/468], loss: 0.994149310668492\n",
      "=> Epoch 17, elapsed time: 0.21 seconds\n",
      "[Epoch][Iterations]:[18/30][200/468], loss: 0.9821681902207325\n",
      "[Epoch][Iterations]:[18/30][400/468], loss: 0.8216692521970164\n",
      "=> Epoch 18, elapsed time: 0.20 seconds\n",
      "[Epoch][Iterations]:[19/30][200/468], loss: 0.8135953811361567\n",
      "[Epoch][Iterations]:[19/30][400/468], loss: 0.8021757125807216\n",
      "=> Epoch 19, elapsed time: 0.20 seconds\n",
      "[Epoch][Iterations]:[20/30][200/468], loss: 0.7421200577511792\n",
      "[Epoch][Iterations]:[20/30][400/468], loss: 1.1268806162795508\n",
      "=> Epoch 20, elapsed time: 0.21 seconds\n",
      "[Epoch][Iterations]:[21/30][200/468], loss: 1.063881315412968\n",
      "[Epoch][Iterations]:[21/30][400/468], loss: 0.807170577419808\n",
      "=> Epoch 21, elapsed time: 0.19 seconds\n",
      "[Epoch][Iterations]:[22/30][200/468], loss: 0.8212167925352976\n",
      "[Epoch][Iterations]:[22/30][400/468], loss: 0.7569478541409967\n",
      "=> Epoch 22, elapsed time: 0.20 seconds\n",
      "[Epoch][Iterations]:[23/30][200/468], loss: 0.8219746507051587\n",
      "[Epoch][Iterations]:[23/30][400/468], loss: 0.7445395423362919\n",
      "=> Epoch 23, elapsed time: 0.20 seconds\n",
      "[Epoch][Iterations]:[24/30][200/468], loss: 0.8079085386713928\n",
      "[Epoch][Iterations]:[24/30][400/468], loss: 0.641538009817753\n",
      "=> Epoch 24, elapsed time: 0.19 seconds\n",
      "[Epoch][Iterations]:[25/30][200/468], loss: 0.7246117408633991\n",
      "[Epoch][Iterations]:[25/30][400/468], loss: 0.9623835454010162\n",
      "=> Epoch 25, elapsed time: 0.20 seconds\n",
      "[Epoch][Iterations]:[26/30][200/468], loss: 0.7610751138276508\n",
      "[Epoch][Iterations]:[26/30][400/468], loss: 0.739538272258798\n",
      "=> Epoch 26, elapsed time: 0.20 seconds\n",
      "[Epoch][Iterations]:[27/30][200/468], loss: 0.7473857212403143\n",
      "[Epoch][Iterations]:[27/30][400/468], loss: 0.649750041906042\n",
      "=> Epoch 27, elapsed time: 0.20 seconds\n",
      "[Epoch][Iterations]:[28/30][200/468], loss: 0.6595142843136869\n",
      "[Epoch][Iterations]:[28/30][400/468], loss: 0.6490053991294251\n",
      "=> Epoch 28, elapsed time: 0.20 seconds\n",
      "[Epoch][Iterations]:[29/30][200/468], loss: 0.5137606020310552\n",
      "[Epoch][Iterations]:[29/30][400/468], loss: 0.6773865277713103\n",
      "=> Epoch 29, elapsed time: 0.21 seconds\n"
     ]
    },
    {
     "data": {
      "image/png": "[encoded data removed]",
      "text/plain": [
       "<Figure size 640x480 with 1 Axes>"
      ]
     },
     "metadata": {},
     "output_type": "display_data"
    }
   ],
   "source": [
    "parameters, velocity = init_parameters(\n",
    "    num_inputs = X_train.shape[0], \n",
    "    num_hidden_1 = 9, \n",
    "    num_hidden_2 = 3,\n",
    "    num_outputs = num_classes,\n",
    ")\n",
    "\n",
    "trained_parameters = training_model(\n",
    "    parameters, \n",
    "    velocity,\n",
    "    batch_size = 128,                                     \n",
    "    epoch = 30,\n",
    "    learning_rate = 0.25,                                     \n",
    "    beta = 0.5,                                     \n",
    "    weight_decay_lambda = 0., \n",
    ")"
   ]
  },
  {
   "cell_type": "markdown",
   "metadata": {},
   "source": [
    "### 3.2 Evaluate the performance of your model (<span style=\"color:green\">0.5 points</span>)"
   ]
  },
  {
   "cell_type": "code",
   "execution_count": 22,
   "metadata": {},
   "outputs": [],
   "source": [
    "def testing_model(X, parameters):\n",
    "    # TODO: implement the forward propagation for testing step (0.5 point)\n",
    "    # Hints: call forward_propagation() function and get the output A3\n",
    "    A3 = \n",
    "\n",
    "    # Evaluate the performance of your model\n",
    "    predictions = np.argmax(A3, axis=0)\n",
    "    labels = np.argmax(Y_test, axis=0)\n",
    "    \n",
    "    print(\"Confusion matrix:\\n{}\".format(confusion_matrix(labels, predictions)))\n",
    "    print(\"Testing accuracy: {}\".format(accuracy_score(labels, predictions)))"
   ]
  },
  {
   "cell_type": "code",
   "execution_count": 23,
   "metadata": {
    "scrolled": false
   },
   "outputs": [
    {
     "name": "stdout",
     "output_type": "stream",
     "text": [
      "Confusion matrix:\n",
      "[[769   2   0 108  10   1  93   0  17   0]\n",
      " [  5 927   0  47   8   0  12   0   1   0]\n",
      " [ 18   3   0  11 722   0 235   0  11   0]\n",
      " [ 74  54   0 803   6   0  61   0   2   0]\n",
      " [ 20  25   0  55 670   0 225   0   5   0]\n",
      " [  0   0   0   1   1 833   0  80  15  70]\n",
      " [212   4   0  78 284   0 391   0  31   0]\n",
      " [  0   0   0   0   0  37   0 880   0  83]\n",
      " [  8   1   0   3  17   5  25   5 935   1]\n",
      " [  0   1   0   1   0  22   0  46   1 929]]\n",
      "Testing accuracy: 0.7137\n"
     ]
    }
   ],
   "source": [
    "testing_model(X_test, trained_parameters)"
   ]
  },
  {
   "cell_type": "markdown",
   "metadata": {},
   "source": [
    "## Part 4. Regularization and Hyperparameter Tuning (<span style=\"color:green\">3 points</span>)"
   ]
  },
  {
   "cell_type": "markdown",
   "metadata": {},
   "source": [
    "### Implement weight decay loss and backward propagation  (<span style=\"color:green\">2 points</span>)"
   ]
  },
  {
   "cell_type": "markdown",
   "metadata": {},
   "source": [
    "[Regularization](https://en.wikipedia.org/wiki/Regularization_(mathematics)) is a set of techniques in deep learning to prevent overfitting by adding a penalty term to the loss function, discouraging overly complex models, and promoting simpler, more generalizable ones. The loss function in regularization incorporates additional terms, like L1 or L2 regularization, which penalize large weights or complex models to prevent overfitting."
   ]
  },
  {
   "cell_type": "markdown",
   "metadata": {},
   "source": [
    "To implement weight decay regularization in our neural network, we can modify the loss function as follows:\n",
    "\n",
    "$$\n",
    "\\begin{align}\n",
    "L &= L_1 + L_2 \\tag{30} \\\\\n",
    "\\\\\n",
    "L_1 &= {\\rm cross\\_entropy}(Y, A_3) \\tag{31} \\\\\n",
    "L_2 &= \\frac{\\lambda}{2} \\left( ||W_1||_2^2 + ||W_2||_2^2 + ||W_3||_2^2 \\right) \\tag{32}\n",
    "\\end{align}\n",
    "$$\n",
    "\n",
    "Here $L_2$ denotes the weight decay loss, and $||\\cdot||_2^2$ is the [L2 Regularization](https://en.wikipedia.org/wiki/Regularization_(mathematics)). For example, $||W_1||_2^2$ is calculated by:\n",
    "$$\n",
    "||W_1||_2^2 = \\sum_{i=1}^{N}\\sum_{j=1}^{M}{W_1^{(ij)}}^2\n",
    "$$\n",
    "which directly sums the squares of all elements in $W_1$."
   ]
  },
  {
   "cell_type": "code",
   "execution_count": 24,
   "metadata": {},
   "outputs": [],
   "source": [
    "def weight_decay_loss(parameters, lambd):\n",
    "    \"\"\"\n",
    "    Args:\n",
    "        parameters (tuple): Parameters in the model: W1, W2, W3\n",
    "        lambd (float): The coefficient of weight decay\n",
    "        m (float): The number of data samples in a mini batch\n",
    "    \"\"\"\n",
    "    W1, W2, W3 = parameters\n",
    "    \n",
    "    # TODO: implement the weight decay loss in Eq. 32 (1 point)\n",
    "    # Hints: use np.sum() and np.power()\n",
    "    return"
   ]
  },
  {
   "cell_type": "code",
   "execution_count": 25,
   "metadata": {},
   "outputs": [
    {
     "name": "stdout",
     "output_type": "stream",
     "text": [
      "loss: 0.35471489737579914\n"
     ]
    }
   ],
   "source": [
    "np.random.seed(1)\n",
    "parameters, _ = init_parameters(num_inputs, num_hidden_1, num_hidden_2, num_outputs)\n",
    "\n",
    "loss = weight_decay_loss(parameters, lambd=0.0001)\n",
    "print('loss:', loss)"
   ]
  },
  {
   "cell_type": "markdown",
   "metadata": {},
   "source": [
    "**<span style=\"color:green\">Reference Results:</span>** <br>\n",
    "loss: 0.35471489737579914"
   ]
  },
  {
   "cell_type": "markdown",
   "metadata": {},
   "source": [
    "As here we use a new loss function $L$, we need to calculate the derivative $L$ with respect to $W_1, W_2, W_3$ for backward propagation again.\n",
    "\n",
    "Take $W_1$ as an example, the derivative of $L$ with respect to $W_1$ is calculated by: \n",
    "$$\n",
    "\\begin{align}\n",
    "d W_{1(new)} &= \\frac{\\partial L}{\\partial W_1} = \\frac{\\partial L_1}{\\partial W_1} + \\frac{\\partial L_2}{\\partial W_1} = dW_1 + \\lambda W_1 \\tag{33}\n",
    "\\end{align}\n",
    "$$\n",
    "\n",
    "Here $dW_1$ is the previous derivative same as Eq. 23."
   ]
  },
  {
   "cell_type": "code",
   "execution_count": 26,
   "metadata": {},
   "outputs": [],
   "source": [
    "def backward_propagation_with_weight_decay(X, Y, parameters, outputs, lambd):\n",
    "    \"\"\"Method for forward propagation.\n",
    "    Args:\n",
    "        X (np.array): Input data\n",
    "        Y (np.array): Ground truth of input data\n",
    "        parameters (tuple): Parameters in the model: W1, W2, W3\n",
    "        outputs (tuple): The forward propagation outputs: Z1, A1, Z2, A2, Z3, A3\n",
    "        lambd (float): The coefficient of weight decay\n",
    "\n",
    "    Returns:\n",
    "        tuple: The computed gradients: dW1, dW2, dW3     \n",
    "    \"\"\"\n",
    "\n",
    "    W1, W2, W3 = parameters\n",
    "    dW1, dW2, dW3 = backward_propagation(X, Y, parameters, outputs)\n",
    "    \n",
    "    # TODO: calculate the new derivative of L with respect to W1, W2, and W3 based on Eq. 33 (1 point)\n",
    "    dW3_new = \n",
    "    dW2_new = \n",
    "    dW1_new = \n",
    "\n",
    "    return dW1_new, dW2_new, dW3_new"
   ]
  },
  {
   "cell_type": "code",
   "execution_count": 27,
   "metadata": {
    "scrolled": true
   },
   "outputs": [
    {
     "name": "stdout",
     "output_type": "stream",
     "text": [
      "\n",
      "Example results in dW3 (new):\n",
      "[-11.0768454  -11.18333839 -11.07941469 -11.15094559  -9.30678255\n",
      " -11.18963176 -11.1838994  -11.18909476 -10.89788101 -11.14890796]\n",
      "\n",
      "Example results in dW2 (new):\n",
      "[ 9.68498668 -5.58462452  4.69335025]\n",
      "\n",
      "Example results in dW1 (new):\n",
      "[ 1.42425268e-02 -6.39850968e-01 -1.87264211e-05 -2.81056313e-05\n",
      "  2.11108273e-04  1.11403812e-04 -3.10541295e-05  4.55282195e-05\n",
      "  4.47521792e-03]\n"
     ]
    }
   ],
   "source": [
    "np.random.seed(1)\n",
    "X = np.random.randn(num_inputs, 2)\n",
    "Y = np.random.randint(1, num_classes, (2, ))\n",
    "\n",
    "parameters, _ = init_parameters(num_inputs, num_hidden_1, num_hidden_2, num_outputs)\n",
    "outputs = forward_propagation(X, parameters)\n",
    "dW1_new, dW2_new, dW3_new = backward_propagation_with_weight_decay(X, Y, parameters, outputs, lambd=0.0001)\n",
    "\n",
    "print('\\nExample results in dW3 (new):')\n",
    "print(dW3_new[:, 0])\n",
    "\n",
    "print('\\nExample results in dW2 (new):')\n",
    "print(dW2_new[:, 0])\n",
    "\n",
    "print('\\nExample results in dW1 (new):')\n",
    "print(dW1_new[:, 0])"
   ]
  },
  {
   "cell_type": "markdown",
   "metadata": {},
   "source": [
    "**<span style=\"color:green\">Reference Results:</span>** <br>\n",
    "Example results in dW3 (new):<br>\n",
    "[-11.0768454  -11.18333839 -11.07941469 -11.15094559  -9.30678255<br>\n",
    " -11.18963176 -11.1838994  -11.18909476 -10.89788101 -11.14890796]<br>\n",
    "\n",
    "Example results in dW2 (new):<br>\n",
    "[ 9.68498668 -5.58462452  4.69335025]<br>\n",
    "\n",
    "Example results in dW1 (new):<br>\n",
    "[ 1.42425268e-02 -6.39850968e-01 -1.87264211e-05 -2.81056313e-05<br>\n",
    "  2.11108273e-04  1.11403812e-04 -3.10541295e-05  4.55282195e-05<br>\n",
    "  4.47521792e-03]<br>"
   ]
  },
  {
   "cell_type": "markdown",
   "metadata": {},
   "source": [
    "### Hyperparameter Tuning (<span style=\"color:green\">1 points</span>)"
   ]
  },
  {
   "cell_type": "markdown",
   "metadata": {},
   "source": [
    "[Hyperparameter Tuning](https://en.wikipedia.org/wiki/Hyperparameter_optimization) is an effective way to optimize the performance of neural network models in machine learning. \n",
    "\n",
    "For our neural network, we can adjust many hyper-parameters, such as learning rate, batch size, weight decay coefficient, training epochs, and the model architecture choices (number of neruons in hidden layers)."
   ]
  },
  {
   "cell_type": "code",
   "execution_count": 28,
   "metadata": {
    "scrolled": true
   },
   "outputs": [
    {
     "name": "stdout",
     "output_type": "stream",
     "text": [
      "Start training the model:\n",
      "Number of training samples: 60000\n",
      "Number of batchs: 468\n",
      "[Epoch][Iterations]:[0/30][200/468], loss: 5.336648939178938\n",
      "[Epoch][Iterations]:[0/30][400/468], loss: 5.022074873500378\n",
      "=> Epoch 0, elapsed time: 0.21 seconds\n",
      "[Epoch][Iterations]:[1/30][200/468], loss: 4.59317651721295\n",
      "[Epoch][Iterations]:[1/30][400/468], loss: 4.338583270637727\n",
      "=> Epoch 1, elapsed time: 0.23 seconds\n",
      "[Epoch][Iterations]:[2/30][200/468], loss: 3.8630493691224292\n",
      "[Epoch][Iterations]:[2/30][400/468], loss: 3.353786007435178\n",
      "=> Epoch 2, elapsed time: 0.21 seconds\n",
      "[Epoch][Iterations]:[3/30][200/468], loss: 2.837845093644287\n",
      "[Epoch][Iterations]:[3/30][400/468], loss: 2.5132973567617753\n",
      "=> Epoch 3, elapsed time: 0.20 seconds\n",
      "[Epoch][Iterations]:[4/30][200/468], loss: 2.2830050032215787\n",
      "[Epoch][Iterations]:[4/30][400/468], loss: 2.1516352690100096\n",
      "=> Epoch 4, elapsed time: 0.21 seconds\n",
      "[Epoch][Iterations]:[5/30][200/468], loss: 1.9996080948722526\n",
      "[Epoch][Iterations]:[5/30][400/468], loss: 1.915611484307795\n",
      "=> Epoch 5, elapsed time: 0.22 seconds\n",
      "[Epoch][Iterations]:[6/30][200/468], loss: 1.810054178915597\n",
      "[Epoch][Iterations]:[6/30][400/468], loss: 1.8138479489347632\n",
      "=> Epoch 6, elapsed time: 0.22 seconds\n",
      "[Epoch][Iterations]:[7/30][200/468], loss: 1.5206965968874429\n",
      "[Epoch][Iterations]:[7/30][400/468], loss: 1.3485410694797326\n",
      "=> Epoch 7, elapsed time: 0.20 seconds\n",
      "[Epoch][Iterations]:[8/30][200/468], loss: 1.1829560706236828\n",
      "[Epoch][Iterations]:[8/30][400/468], loss: 1.1802788860141118\n",
      "=> Epoch 8, elapsed time: 0.20 seconds\n",
      "[Epoch][Iterations]:[9/30][200/468], loss: 1.1955512000733102\n",
      "[Epoch][Iterations]:[9/30][400/468], loss: 1.0823961945697969\n",
      "=> Epoch 9, elapsed time: 0.20 seconds\n",
      "[Epoch][Iterations]:[10/30][200/468], loss: 1.0933432201955093\n",
      "[Epoch][Iterations]:[10/30][400/468], loss: 0.9642896939990215\n",
      "=> Epoch 10, elapsed time: 0.22 seconds\n",
      "[Epoch][Iterations]:[11/30][200/468], loss: 0.8764968070230008\n",
      "[Epoch][Iterations]:[11/30][400/468], loss: 0.9312524473106972\n",
      "=> Epoch 11, elapsed time: 0.21 seconds\n",
      "[Epoch][Iterations]:[12/30][200/468], loss: 0.8788583629654483\n",
      "[Epoch][Iterations]:[12/30][400/468], loss: 1.0332858526000344\n",
      "=> Epoch 12, elapsed time: 0.22 seconds\n",
      "[Epoch][Iterations]:[13/30][200/468], loss: 0.8575275291694292\n",
      "[Epoch][Iterations]:[13/30][400/468], loss: 0.793791370381618\n",
      "=> Epoch 13, elapsed time: 0.20 seconds\n",
      "[Epoch][Iterations]:[14/30][200/468], loss: 0.8264373137861554\n",
      "[Epoch][Iterations]:[14/30][400/468], loss: 0.6508505496319359\n",
      "=> Epoch 14, elapsed time: 0.20 seconds\n",
      "[Epoch][Iterations]:[15/30][200/468], loss: 0.7486446105825775\n",
      "[Epoch][Iterations]:[15/30][400/468], loss: 0.7802417964232728\n",
      "=> Epoch 15, elapsed time: 0.22 seconds\n",
      "[Epoch][Iterations]:[16/30][200/468], loss: 0.776352630426582\n",
      "[Epoch][Iterations]:[16/30][400/468], loss: 0.8042346872019707\n",
      "=> Epoch 16, elapsed time: 0.21 seconds\n",
      "[Epoch][Iterations]:[17/30][200/468], loss: 0.7492827118895815\n",
      "[Epoch][Iterations]:[17/30][400/468], loss: 0.7881876576504593\n",
      "=> Epoch 17, elapsed time: 0.20 seconds\n",
      "[Epoch][Iterations]:[18/30][200/468], loss: 0.8467426586107419\n",
      "[Epoch][Iterations]:[18/30][400/468], loss: 0.6865499997344929\n",
      "=> Epoch 18, elapsed time: 0.21 seconds\n",
      "[Epoch][Iterations]:[19/30][200/468], loss: 0.683756890078071\n",
      "[Epoch][Iterations]:[19/30][400/468], loss: 0.6589102034269413\n",
      "=> Epoch 19, elapsed time: 0.21 seconds\n",
      "[Epoch][Iterations]:[20/30][200/468], loss: 0.6202255055912742\n",
      "[Epoch][Iterations]:[20/30][400/468], loss: 0.8169444733829534\n",
      "=> Epoch 20, elapsed time: 0.22 seconds\n",
      "[Epoch][Iterations]:[21/30][200/468], loss: 0.8458613184688316\n",
      "[Epoch][Iterations]:[21/30][400/468], loss: 0.6823009537990432\n",
      "=> Epoch 21, elapsed time: 0.22 seconds\n",
      "[Epoch][Iterations]:[22/30][200/468], loss: 0.6336013648969915\n",
      "[Epoch][Iterations]:[22/30][400/468], loss: 0.5884734639102445\n",
      "=> Epoch 22, elapsed time: 0.20 seconds\n",
      "[Epoch][Iterations]:[23/30][200/468], loss: 0.6506928964981263\n",
      "[Epoch][Iterations]:[23/30][400/468], loss: 0.702564350015829\n",
      "=> Epoch 23, elapsed time: 0.23 seconds\n",
      "[Epoch][Iterations]:[24/30][200/468], loss: 0.6309361870999763\n",
      "[Epoch][Iterations]:[24/30][400/468], loss: 0.5666779531501087\n",
      "=> Epoch 24, elapsed time: 0.21 seconds\n",
      "[Epoch][Iterations]:[25/30][200/468], loss: 0.7329517005482455\n",
      "[Epoch][Iterations]:[25/30][400/468], loss: 0.873355696891868\n",
      "=> Epoch 25, elapsed time: 0.21 seconds\n",
      "[Epoch][Iterations]:[26/30][200/468], loss: 0.6224374298214623\n",
      "[Epoch][Iterations]:[26/30][400/468], loss: 0.6154403874267657\n",
      "=> Epoch 26, elapsed time: 0.21 seconds\n",
      "[Epoch][Iterations]:[27/30][200/468], loss: 0.7401065717463597\n",
      "[Epoch][Iterations]:[27/30][400/468], loss: 0.5539745763236008\n",
      "=> Epoch 27, elapsed time: 0.21 seconds\n",
      "[Epoch][Iterations]:[28/30][200/468], loss: 0.6136958583768213\n",
      "[Epoch][Iterations]:[28/30][400/468], loss: 0.5552329963617882\n",
      "=> Epoch 28, elapsed time: 0.20 seconds\n",
      "[Epoch][Iterations]:[29/30][200/468], loss: 0.5406759417637793\n",
      "[Epoch][Iterations]:[29/30][400/468], loss: 0.6455125136387697\n",
      "=> Epoch 29, elapsed time: 0.21 seconds\n"
     ]
    },
    {
     "data": {
      "image/png": "[encoded data removed]",
      "text/plain": [
       "<Figure size 640x480 with 1 Axes>"
      ]
     },
     "metadata": {},
     "output_type": "display_data"
    }
   ],
   "source": [
    "# TODO: adjust the values of hyper-parameters below and try to improve the testing accuracy. (1 point)\n",
    "# Hints: try to adjust 'num_hidden_2', 'weight_decay_lambda' or other hyper-parameters\n",
    "\n",
    "parameters, velocity = init_parameters(\n",
    "    num_inputs = X_train.shape[0], \n",
    "    num_hidden_1 = 9, \n",
    "    num_hidden_2 = 3,\n",
    "    num_outputs=num_classes\n",
    ")\n",
    "\n",
    "trained_parameters = training_model(\n",
    "    parameters, \n",
    "    velocity,\n",
    "    batch_size = 128,                                     \n",
    "    epoch = 30,\n",
    "    learning_rate = 0.25,                                     \n",
    "    beta = 0.5,                                     \n",
    "    weight_decay_lambda = 0.0001, \n",
    ")"
   ]
  },
  {
   "cell_type": "code",
   "execution_count": 29,
   "metadata": {},
   "outputs": [
    {
     "name": "stdout",
     "output_type": "stream",
     "text": [
      "Confusion matrix:\n",
      "[[827   4   6  26   3   2 121   0  11   0]\n",
      " [  5 937   1  44   4   0   8   0   1   0]\n",
      " [ 18   0 385  24 278   0 286   0   9   0]\n",
      " [ 45  14  15 852  39   0  34   0   1   0]\n",
      " [  0   0  39  43 820   0  79   0  19   0]\n",
      " [  0   0   0   0   0 921   1  54   6  18]\n",
      " [204   2  56  20 130   5 536   0  47   0]\n",
      " [  0   0   0   0   0  27   0 944   0  29]\n",
      " [  1   0   1   2  18   9  27   4 936   2]\n",
      " [  0   0   0   0   0  17   0  52   1 930]]\n",
      "Testing accuracy: 0.8088\n"
     ]
    }
   ],
   "source": [
    "testing_model(X_test, trained_parameters)"
   ]
  },
  {
   "cell_type": "markdown",
   "metadata": {},
   "source": [
    "**<span style=\"color:green\">Reference Results:</span>** <br>\n",
    "Testing accuracy: 0.8000<br>\n",
    "\n",
    "(You can get this grade point if your accuracy reach 0.8 or better)"
   ]
  },
  {
   "cell_type": "code",
   "execution_count": null,
   "metadata": {},
   "outputs": [],
   "source": []
  }
 ],
 "metadata": {
  "kernelspec": {
   "display_name": "Python 3 (ipykernel)",
   "language": "python",
   "name": "python3"
  },
  "language_info": {
   "codemirror_mode": {
    "name": "ipython",
    "version": 3
   },
   "file_extension": ".py",
   "mimetype": "text/x-python",
   "name": "python",
   "nbconvert_exporter": "python",
   "pygments_lexer": "ipython3",
   "version": "3.9.16"
  }
 },
 "nbformat": 4,
 "nbformat_minor": 4
}
